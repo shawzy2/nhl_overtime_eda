{
 "cells": [
  {
   "cell_type": "markdown",
   "id": "1d403ad2",
   "metadata": {},
   "source": [
    "# Mine 2020-21 Data"
   ]
  },
  {
   "cell_type": "code",
   "execution_count": 1,
   "id": "5dfe3288",
   "metadata": {},
   "outputs": [],
   "source": [
    "import requests\n",
    "import pprint\n",
    "import os\n",
    "import json"
   ]
  },
  {
   "cell_type": "code",
   "execution_count": 4,
   "id": "4e8e6972",
   "metadata": {},
   "outputs": [
    {
     "name": "stdout",
     "output_type": "stream",
     "text": [
      "https://statsapi.web.nhl.com/api/v1/game/2015020762/feed/live\n"
     ]
    }
   ],
   "source": [
    "# Set up the API call variables\n",
    "game_data = []\n",
    "season_type = '02' # 02 is regular season\n",
    "years = ['2015','2016','2017','2018','2019','2020']      # 2020-2021 season\n",
    "max_game_IDs = [1230,1230,1272,1272,1272,869]  # max number of games in season (changes depending on season)\n",
    "HEADERS = {\n",
    "    'User-Agent': 'Mozilla/5.0 (Windows NT 6.1; WOW64) AppleWebKit/537.36 (KHTML, like Gecko) Chrome/56.0.2924.76 Safari/537.36', \n",
    "    \"Upgrade-Insecure-Requests\": \"1\",\n",
    "    \"DNT\": \"1\",\n",
    "    \"Accept\": \"text/html,application/xhtml+xml,application/xml;q=0.9,*/*;q=0.8\",\n",
    "    \"Accept-Language\": \"en-US,en;q=0.5\",\n",
    "    \"Accept-Encoding\": \"gzip, deflate\"\n",
    "}\n",
    "\n",
    "# example url\n",
    "year = years[0]\n",
    "print('https://statsapi.web.nhl.com/api/v1/game/'\n",
    "        + year + season_type +str(762).zfill(4)+'/feed/live')"
   ]
  },
  {
   "cell_type": "code",
   "execution_count": 6,
   "id": "22490263",
   "metadata": {},
   "outputs": [
    {
     "name": "stdout",
     "output_type": "stream",
     "text": [
      "2015-2016 Games: 1229\n",
      "2016-2017 Games: 1229\n",
      "2017-2018 Games: 1271\n",
      "2018-2019 Games: 1271\n",
      "2019-2020 Games: 1271\n",
      "2020-2021 Games: 868\n"
     ]
    }
   ],
   "source": [
    "# Loop over the counter and format the API call\n",
    "for i in range(0, len(years)):\n",
    "    games = {}\n",
    "    year = years[i]\n",
    "    max_game_ID = max_game_IDs[i]\n",
    "    \n",
    "    for i in range(1,max_game_ID):\n",
    "        r = requests.get(url='https://statsapi.web.nhl.com/api/v1/game/'\n",
    "            + year + season_type +str(i).zfill(4)+'/feed/live')\n",
    "        d = r.json()\n",
    "#         print(d['gameData']['teams']['home']['name'] + ' vs ' + d['gameData']['teams']['away']['name'] + ' : ' + str(d['gamePk']))\n",
    "\n",
    "        game_id = d['gamePk']\n",
    "        home_team = d['gameData']['teams']['home']['name']\n",
    "        away_team = d['gameData']['teams']['away']['name']\n",
    "        game_data = []\n",
    "\n",
    "        for data in d:\n",
    "            if 'liveData' not in data:\n",
    "                continue\n",
    "\n",
    "            single_game = d[data]['plays']['allPlays']\n",
    "            for play in single_game:\n",
    "                game_data.append(play)\n",
    "\n",
    "        games[game_id] = {}\n",
    "        games[game_id]['home_team'] = home_team\n",
    "        games[game_id]['away_team'] = away_team\n",
    "        games[game_id]['events'] = game_data\n",
    "    print(year + '-' + str(int(year)+1) + ' Games: ' + str(len(games))) # print status message\n",
    "        \n",
    "    # save to json file in data directory\n",
    "    path = os.getcwd()\n",
    "    path = os.path.abspath(os.path.join(path, os.pardir, 'data/' + year + '_regSeasonPlays.json'))\n",
    "\n",
    "    with open(path, 'w') as f:\n",
    "        json.dump(games, f, indent=2)\n"
   ]
  },
  {
   "cell_type": "markdown",
   "id": "ee7a8426",
   "metadata": {},
   "source": [
    "### Count Stats\n",
    "Just an example of something you can do with this data.\n",
    "\n",
    "Keep a dictionary containing the number of goals for each player, as well as the number of assists unique to that player's goals."
   ]
  },
  {
   "cell_type": "code",
   "execution_count": 7,
   "id": "86a29d34",
   "metadata": {},
   "outputs": [],
   "source": [
    "player_goals = {}\n",
    "\n",
    "for game_id, game in games.items():\n",
    "    for play in game['events']:\n",
    "        if 'result' in play and play['result']['event'] == 'Goal':\n",
    "            ## extract goal scorer and assiters ##\n",
    "            goal_scorer = ''\n",
    "            goal_assisters = []\n",
    "            for player in play['players']:\n",
    "                if player['playerType'] == 'Scorer':\n",
    "                    goal_scorer = player['player']['fullName']\n",
    "                elif player['playerType'] == 'Assist':\n",
    "                    goal_assisters.append(player['player']['fullName'])\n",
    "    #         print(goal_scorer)\n",
    "    #         print(goal_assisters)\n",
    "\n",
    "            ## increment player's number of goals ##\n",
    "            if goal_scorer in player_goals:\n",
    "                player_goals[goal_scorer]['goals'] += 1\n",
    "            else:\n",
    "                player_goals[goal_scorer] = {}\n",
    "                player_goals[goal_scorer]['goals'] = 1\n",
    "                player_goals[goal_scorer]['assisters'] = {}\n",
    "\n",
    "            ## increment assisters for unique to goal scorer's goals ##\n",
    "            for assister in goal_assisters:\n",
    "                if assister in player_goals[goal_scorer]['assisters']:\n",
    "                    player_goals[goal_scorer]['assisters'][assister] += 1\n",
    "                else:\n",
    "                    player_goals[goal_scorer]['assisters'][assister] = 1\n",
    "\n",
    "        \n",
    "# pprint.pprint(game_data[0])"
   ]
  },
  {
   "cell_type": "code",
   "execution_count": 8,
   "id": "1251e2e6",
   "metadata": {},
   "outputs": [],
   "source": [
    "# pprint.pprint(player_goals)"
   ]
  },
  {
   "cell_type": "markdown",
   "id": "f2e6bdad",
   "metadata": {},
   "source": [
    "### Verify Total Points"
   ]
  },
  {
   "cell_type": "code",
   "execution_count": 9,
   "id": "15e12ea0",
   "metadata": {},
   "outputs": [
    {
     "name": "stdout",
     "output_type": "stream",
     "text": [
      "Name: Adam Fox\n",
      "Total Goals: 5\n",
      "Total Assists: 42\n",
      "Total Points: 47\n"
     ]
    }
   ],
   "source": [
    "player_name = 'Adam Fox'\n",
    "player_name_goals = player_name_goals = player_goals[player_name]['goals']\n",
    "player_name_assists = 0\n",
    "\n",
    "for name, value in player_goals.items():\n",
    "    if player_name in value['assisters']:\n",
    "        player_name_assists += value['assisters'][player_name]\n",
    "    \n",
    "print('Name: ' + player_name)\n",
    "print('Total Goals: ' + str(player_name_goals))\n",
    "print('Total Assists: ' + str(player_name_assists))\n",
    "print('Total Points: ' + str(player_name_goals + player_name_assists))"
   ]
  },
  {
   "cell_type": "markdown",
   "id": "55ecc315",
   "metadata": {},
   "source": [
    "### How Many Points Due to Interaction?\n",
    "\n",
    "Want to know how many of Adam Fox's points are due to Panarin"
   ]
  },
  {
   "cell_type": "code",
   "execution_count": 10,
   "id": "5eece8a4",
   "metadata": {},
   "outputs": [
    {
     "name": "stdout",
     "output_type": "stream",
     "text": [
      "Times Panarin assists on Fox goals: 2\n",
      "Times Fox assists on Panarin goals: 7\n",
      "Times Fox an Panarin assist on a goal: 22\n",
      "Total Fox and Panarin Points in common: 31\n"
     ]
    }
   ],
   "source": [
    "foxGoals_panarinAssists = player_goals['Adam Fox']['assisters']['Artemi Panarin']\n",
    "panarinGoals_foxAssists = player_goals['Artemi Panarin']['assisters']['Adam Fox']\n",
    "foxAssists_panarinAssists = 0\n",
    "for game_id, game in games.items():\n",
    "    for play in game['events']:\n",
    "        if 'result' in play and play['result']['event'] == 'Goal':\n",
    "            ## extract goal scorer and assiters ##\n",
    "            goal_scorer = ''\n",
    "            goal_assisters = set()\n",
    "            for player in play['players']:\n",
    "                if player['playerType'] == 'Scorer':\n",
    "                    goal_scorer = player['player']['fullName']\n",
    "                elif player['playerType'] == 'Assist':\n",
    "                    goal_assisters.add(player['player']['fullName'])\n",
    "\n",
    "                if 'Artemi Panarin' in goal_assisters and 'Adam Fox' in goal_assisters:\n",
    "                    foxAssists_panarinAssists += 1\n",
    "    #                 print(goal_scorer)\n",
    "    #                 print(goal_assisters)\n",
    "\n",
    "print('Times Panarin assists on Fox goals: ' + str(foxGoals_panarinAssists))\n",
    "print('Times Fox assists on Panarin goals: ' + str(panarinGoals_foxAssists))\n",
    "print('Times Fox an Panarin assist on a goal: ' + str(foxAssists_panarinAssists))\n",
    "print('Total Fox and Panarin Points in common: ' + str(foxGoals_panarinAssists + \\\n",
    "                                                          panarinGoals_foxAssists + \\\n",
    "                                                          foxAssists_panarinAssists))"
   ]
  },
  {
   "cell_type": "code",
   "execution_count": null,
   "id": "f974cc7a",
   "metadata": {},
   "outputs": [],
   "source": []
  }
 ],
 "metadata": {
  "kernelspec": {
   "display_name": "Python 3",
   "language": "python",
   "name": "python3"
  },
  "language_info": {
   "codemirror_mode": {
    "name": "ipython",
    "version": 3
   },
   "file_extension": ".py",
   "mimetype": "text/x-python",
   "name": "python",
   "nbconvert_exporter": "python",
   "pygments_lexer": "ipython3",
   "version": "3.8.1"
  }
 },
 "nbformat": 4,
 "nbformat_minor": 5
}
