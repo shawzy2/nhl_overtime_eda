{
 "cells": [
  {
   "cell_type": "markdown",
   "id": "7563d691",
   "metadata": {},
   "source": [
    "# EDA\n",
    "Since the inception of 3on3 overtime, are more games (that require extra time) going to a shootout?"
   ]
  },
  {
   "cell_type": "code",
   "execution_count": 1,
   "id": "01a2e1e4",
   "metadata": {},
   "outputs": [],
   "source": [
    "# # Install a pip package in the current Jupyter kernel\n",
    "# import sys\n",
    "# !{sys.executable} -m pip install scipy"
   ]
  },
  {
   "cell_type": "code",
   "execution_count": 2,
   "id": "43b822f7",
   "metadata": {},
   "outputs": [],
   "source": [
    "import os\n",
    "import json\n",
    "import pprint\n",
    "import pandas as pd\n",
    "import matplotlib.pyplot as plt\n",
    "import numpy as np\n",
    "from scipy import stats"
   ]
  },
  {
   "cell_type": "markdown",
   "id": "9671f898",
   "metadata": {},
   "source": [
    "##### read in data for 2020-21 regular season\n"
   ]
  },
  {
   "cell_type": "code",
   "execution_count": 3,
   "id": "763a655b",
   "metadata": {},
   "outputs": [
    {
     "name": "stdout",
     "output_type": "stream",
     "text": [
      "/Users/williamshaw/Projects/NHL/nhl_overtime_eda/data/2015_regSeasonPlays.json\n",
      "/Users/williamshaw/Projects/NHL/nhl_overtime_eda/data/2016_regSeasonPlays.json\n",
      "/Users/williamshaw/Projects/NHL/nhl_overtime_eda/data/2017_regSeasonPlays.json\n",
      "/Users/williamshaw/Projects/NHL/nhl_overtime_eda/data/2018_regSeasonPlays.json\n",
      "/Users/williamshaw/Projects/NHL/nhl_overtime_eda/data/2019_regSeasonPlays.json\n",
      "/Users/williamshaw/Projects/NHL/nhl_overtime_eda/data/2020_regSeasonPlays.json\n"
     ]
    }
   ],
   "source": [
    "# year = '2020'\n",
    "years = ['2015','2016','2017','2018','2019','2020']\n",
    "games = {}\n",
    "for year in years:\n",
    "    path = os.getcwd()\n",
    "    path = os.path.abspath(os.path.join(path, os.pardir, 'data/' + year + '_regSeasonPlays.json'))\n",
    "    print(path)\n",
    "    with open(path) as f:\n",
    "        games[year] = json.load(f)"
   ]
  },
  {
   "cell_type": "markdown",
   "id": "343263c9",
   "metadata": {},
   "source": [
    "##### get a list of the winning team for each game ending in overtime"
   ]
  },
  {
   "cell_type": "code",
   "execution_count": 4,
   "id": "252b0605",
   "metadata": {},
   "outputs": [],
   "source": [
    "game_results = []\n",
    "\n",
    "record = {}\n",
    "record['game_id'] = ''\n",
    "record['home_team'] = ''\n",
    "record['away_team'] = ''\n",
    "record['home_goals'] = ''\n",
    "record['away_goals'] = ''\n",
    "record['winning_team'] = ''\n",
    "record['losing_team'] = ''\n",
    "record['last_period'] = ''\n",
    "\n",
    "for year in games:\n",
    "    for game_id, game in games[year].items():\n",
    "        ## game_id and home/away team names ##\n",
    "        record['game_id'] = game_id\n",
    "        record['home_team'] = game['home_team']\n",
    "        record['away_team'] = game['away_team']\n",
    "\n",
    "        ## get goals for each team ##\n",
    "        for event in game['events']:\n",
    "            if event['result']['eventTypeId'] == 'GAME_END':\n",
    "                record['home_goals'] = event['about']['goals']['home']\n",
    "                record['away_goals'] = event['about']['goals']['away']\n",
    "                record['last_period'] = event['about']['periodType']\n",
    "\n",
    "        ## calculate which team won/lost the game based on number of goals ##\n",
    "        if record['home_goals'] > record['away_goals']:\n",
    "            record['winning_team'] = record['home_team']\n",
    "            record['losing_team'] = record['away_team']\n",
    "        else:\n",
    "            record['winning_team'] = record['away_team']\n",
    "            record['losing_team'] = record['home_team']\n",
    "\n",
    "        game_results.append(record.copy())\n"
   ]
  },
  {
   "cell_type": "markdown",
   "id": "9af30108",
   "metadata": {},
   "source": [
    "##### convert to pandas dataframe"
   ]
  },
  {
   "cell_type": "code",
   "execution_count": 5,
   "id": "7996dfe0",
   "metadata": {},
   "outputs": [
    {
     "data": {
      "text/html": [
       "<div>\n",
       "<style scoped>\n",
       "    .dataframe tbody tr th:only-of-type {\n",
       "        vertical-align: middle;\n",
       "    }\n",
       "\n",
       "    .dataframe tbody tr th {\n",
       "        vertical-align: top;\n",
       "    }\n",
       "\n",
       "    .dataframe thead th {\n",
       "        text-align: right;\n",
       "    }\n",
       "</style>\n",
       "<table border=\"1\" class=\"dataframe\">\n",
       "  <thead>\n",
       "    <tr style=\"text-align: right;\">\n",
       "      <th></th>\n",
       "      <th>game_id</th>\n",
       "      <th>home_team</th>\n",
       "      <th>away_team</th>\n",
       "      <th>home_goals</th>\n",
       "      <th>away_goals</th>\n",
       "      <th>winning_team</th>\n",
       "      <th>losing_team</th>\n",
       "      <th>last_period</th>\n",
       "    </tr>\n",
       "  </thead>\n",
       "  <tbody>\n",
       "    <tr>\n",
       "      <th>0</th>\n",
       "      <td>2015020001</td>\n",
       "      <td>Toronto Maple Leafs</td>\n",
       "      <td>Montréal Canadiens</td>\n",
       "      <td>1</td>\n",
       "      <td>3</td>\n",
       "      <td>Montréal Canadiens</td>\n",
       "      <td>Toronto Maple Leafs</td>\n",
       "      <td>REGULAR</td>\n",
       "    </tr>\n",
       "    <tr>\n",
       "      <th>1</th>\n",
       "      <td>2015020002</td>\n",
       "      <td>Chicago Blackhawks</td>\n",
       "      <td>New York Rangers</td>\n",
       "      <td>2</td>\n",
       "      <td>3</td>\n",
       "      <td>New York Rangers</td>\n",
       "      <td>Chicago Blackhawks</td>\n",
       "      <td>REGULAR</td>\n",
       "    </tr>\n",
       "    <tr>\n",
       "      <th>2</th>\n",
       "      <td>2015020003</td>\n",
       "      <td>Calgary Flames</td>\n",
       "      <td>Vancouver Canucks</td>\n",
       "      <td>1</td>\n",
       "      <td>5</td>\n",
       "      <td>Vancouver Canucks</td>\n",
       "      <td>Calgary Flames</td>\n",
       "      <td>REGULAR</td>\n",
       "    </tr>\n",
       "    <tr>\n",
       "      <th>3</th>\n",
       "      <td>2015020004</td>\n",
       "      <td>Los Angeles Kings</td>\n",
       "      <td>San Jose Sharks</td>\n",
       "      <td>1</td>\n",
       "      <td>5</td>\n",
       "      <td>San Jose Sharks</td>\n",
       "      <td>Los Angeles Kings</td>\n",
       "      <td>REGULAR</td>\n",
       "    </tr>\n",
       "    <tr>\n",
       "      <th>4</th>\n",
       "      <td>2015020005</td>\n",
       "      <td>Boston Bruins</td>\n",
       "      <td>Winnipeg Jets</td>\n",
       "      <td>2</td>\n",
       "      <td>6</td>\n",
       "      <td>Winnipeg Jets</td>\n",
       "      <td>Boston Bruins</td>\n",
       "      <td>REGULAR</td>\n",
       "    </tr>\n",
       "  </tbody>\n",
       "</table>\n",
       "</div>"
      ],
      "text/plain": [
       "      game_id            home_team           away_team  home_goals  \\\n",
       "0  2015020001  Toronto Maple Leafs  Montréal Canadiens           1   \n",
       "1  2015020002   Chicago Blackhawks    New York Rangers           2   \n",
       "2  2015020003       Calgary Flames   Vancouver Canucks           1   \n",
       "3  2015020004    Los Angeles Kings     San Jose Sharks           1   \n",
       "4  2015020005        Boston Bruins       Winnipeg Jets           2   \n",
       "\n",
       "   away_goals        winning_team          losing_team last_period  \n",
       "0           3  Montréal Canadiens  Toronto Maple Leafs     REGULAR  \n",
       "1           3    New York Rangers   Chicago Blackhawks     REGULAR  \n",
       "2           5   Vancouver Canucks       Calgary Flames     REGULAR  \n",
       "3           5     San Jose Sharks    Los Angeles Kings     REGULAR  \n",
       "4           6       Winnipeg Jets        Boston Bruins     REGULAR  "
      ]
     },
     "metadata": {},
     "output_type": "display_data"
    },
    {
     "data": {
      "text/plain": [
       "REGULAR     5563\n",
       "OVERTIME    1028\n",
       "SHOOTOUT     548\n",
       "Name: last_period, dtype: int64"
      ]
     },
     "metadata": {},
     "output_type": "display_data"
    }
   ],
   "source": [
    "# game results data\n",
    "df_winloss = pd.DataFrame.from_dict(game_results)\n",
    "display(df_winloss.head())\n",
    "display(df_winloss['last_period'].value_counts())"
   ]
  },
  {
   "cell_type": "markdown",
   "id": "d474af37",
   "metadata": {},
   "source": [
    "##### Verify that we correctly assigned labels by checking the total number of games per season\n",
    "Also, save overtime and shootout totals for each year"
   ]
  },
  {
   "cell_type": "code",
   "execution_count": 6,
   "id": "f3d06e48",
   "metadata": {},
   "outputs": [
    {
     "name": "stdout",
     "output_type": "stream",
     "text": [
      "...verifying total games per season in correct\n",
      "2015-2016 szn\n",
      "total games: 1229\n"
     ]
    },
    {
     "data": {
      "text/plain": [
       "REGULAR     954\n",
       "OVERTIME    168\n",
       "SHOOTOUT    107\n",
       "Name: last_period, dtype: int64"
      ]
     },
     "metadata": {},
     "output_type": "display_data"
    },
    {
     "name": "stdout",
     "output_type": "stream",
     "text": [
      "2016-2017 szn\n",
      "total games: 1229\n"
     ]
    },
    {
     "data": {
      "text/plain": [
       "REGULAR     940\n",
       "OVERTIME    190\n",
       "SHOOTOUT     99\n",
       "Name: last_period, dtype: int64"
      ]
     },
     "metadata": {},
     "output_type": "display_data"
    },
    {
     "name": "stdout",
     "output_type": "stream",
     "text": [
      "2017-2018 szn\n",
      "total games: 1271\n"
     ]
    },
    {
     "data": {
      "text/plain": [
       "REGULAR     976\n",
       "OVERTIME    192\n",
       "SHOOTOUT    103\n",
       "Name: last_period, dtype: int64"
      ]
     },
     "metadata": {},
     "output_type": "display_data"
    },
    {
     "name": "stdout",
     "output_type": "stream",
     "text": [
      "2018-2019 szn\n",
      "total games: 1271\n"
     ]
    },
    {
     "data": {
      "text/plain": [
       "REGULAR     999\n",
       "OVERTIME    184\n",
       "SHOOTOUT     88\n",
       "Name: last_period, dtype: int64"
      ]
     },
     "metadata": {},
     "output_type": "display_data"
    },
    {
     "name": "stdout",
     "output_type": "stream",
     "text": [
      "2019-2020 szn\n",
      "total games: 1271\n"
     ]
    },
    {
     "data": {
      "text/plain": [
       "REGULAR     1021\n",
       "OVERTIME     164\n",
       "SHOOTOUT      86\n",
       "Name: last_period, dtype: int64"
      ]
     },
     "metadata": {},
     "output_type": "display_data"
    },
    {
     "name": "stdout",
     "output_type": "stream",
     "text": [
      "2020-2021 szn\n",
      "total games: 868\n"
     ]
    },
    {
     "data": {
      "text/plain": [
       "REGULAR     673\n",
       "OVERTIME    130\n",
       "SHOOTOUT     65\n",
       "Name: last_period, dtype: int64"
      ]
     },
     "metadata": {},
     "output_type": "display_data"
    }
   ],
   "source": [
    "year_results = {}\n",
    "\n",
    "def sum_array(a):\n",
    "    total = 0\n",
    "    for num in a:\n",
    "        total += num\n",
    "    return total\n",
    "\n",
    "print('...verifying total games per season in correct')\n",
    "for year in games:\n",
    "    year_results[year] = {}\n",
    "    print(year + '-' + str(int(year)+1) + ' szn')\n",
    "    year_val_counts = df_winloss[df_winloss['game_id'].str.startswith(year)]['last_period'].value_counts()\n",
    "    print('total games: ' + str(sum_array(year_val_counts)))\n",
    "    display(year_val_counts)\n",
    "    \n",
    "    year_results[year]['reg_end'] = year_val_counts[0]\n",
    "    year_results[year]['ot_end'] = year_val_counts[1]\n",
    "    year_results[year]['so_end'] = year_val_counts[2]\n",
    "    year_results[year]['total_games'] = sum_array(year_val_counts)\n",
    "    year_results[year]['total_extra_time_games'] = year_results[year]['ot_end'] + year_results[year]['so_end']\n",
    "    \n",
    "    "
   ]
  },
  {
   "cell_type": "code",
   "execution_count": 15,
   "id": "2ec39c3c",
   "metadata": {},
   "outputs": [
    {
     "data": {
      "text/html": [
       "<div>\n",
       "<style scoped>\n",
       "    .dataframe tbody tr th:only-of-type {\n",
       "        vertical-align: middle;\n",
       "    }\n",
       "\n",
       "    .dataframe tbody tr th {\n",
       "        vertical-align: top;\n",
       "    }\n",
       "\n",
       "    .dataframe thead th {\n",
       "        text-align: right;\n",
       "    }\n",
       "</style>\n",
       "<table border=\"1\" class=\"dataframe\">\n",
       "  <thead>\n",
       "    <tr style=\"text-align: right;\">\n",
       "      <th></th>\n",
       "      <th>reg_end</th>\n",
       "      <th>ot_end</th>\n",
       "      <th>so_end</th>\n",
       "      <th>total_games</th>\n",
       "      <th>total_extra_time_games</th>\n",
       "    </tr>\n",
       "  </thead>\n",
       "  <tbody>\n",
       "    <tr>\n",
       "      <th>2015</th>\n",
       "      <td>954</td>\n",
       "      <td>168</td>\n",
       "      <td>107</td>\n",
       "      <td>1229</td>\n",
       "      <td>275</td>\n",
       "    </tr>\n",
       "    <tr>\n",
       "      <th>2016</th>\n",
       "      <td>940</td>\n",
       "      <td>190</td>\n",
       "      <td>99</td>\n",
       "      <td>1229</td>\n",
       "      <td>289</td>\n",
       "    </tr>\n",
       "    <tr>\n",
       "      <th>2017</th>\n",
       "      <td>976</td>\n",
       "      <td>192</td>\n",
       "      <td>103</td>\n",
       "      <td>1271</td>\n",
       "      <td>295</td>\n",
       "    </tr>\n",
       "    <tr>\n",
       "      <th>2018</th>\n",
       "      <td>999</td>\n",
       "      <td>184</td>\n",
       "      <td>88</td>\n",
       "      <td>1271</td>\n",
       "      <td>272</td>\n",
       "    </tr>\n",
       "    <tr>\n",
       "      <th>2019</th>\n",
       "      <td>1021</td>\n",
       "      <td>164</td>\n",
       "      <td>86</td>\n",
       "      <td>1271</td>\n",
       "      <td>250</td>\n",
       "    </tr>\n",
       "    <tr>\n",
       "      <th>2020</th>\n",
       "      <td>673</td>\n",
       "      <td>130</td>\n",
       "      <td>65</td>\n",
       "      <td>868</td>\n",
       "      <td>195</td>\n",
       "    </tr>\n",
       "  </tbody>\n",
       "</table>\n",
       "</div>"
      ],
      "text/plain": [
       "      reg_end  ot_end  so_end  total_games  total_extra_time_games\n",
       "2015      954     168     107         1229                     275\n",
       "2016      940     190      99         1229                     289\n",
       "2017      976     192     103         1271                     295\n",
       "2018      999     184      88         1271                     272\n",
       "2019     1021     164      86         1271                     250\n",
       "2020      673     130      65          868                     195"
      ]
     },
     "execution_count": 15,
     "metadata": {},
     "output_type": "execute_result"
    }
   ],
   "source": [
    "df_year = pd.DataFrame.from_dict(year_results, orient='index')\n",
    "df_year"
   ]
  },
  {
   "cell_type": "markdown",
   "id": "6e01403f",
   "metadata": {},
   "source": [
    "##### extract analytics\n",
    "* Percentage of games requiring extra time\n",
    "* Of games that require extra time, percentage that end in overtime"
   ]
  },
  {
   "cell_type": "code",
   "execution_count": 18,
   "id": "aa026448",
   "metadata": {},
   "outputs": [
    {
     "data": {
      "text/html": [
       "<div>\n",
       "<style scoped>\n",
       "    .dataframe tbody tr th:only-of-type {\n",
       "        vertical-align: middle;\n",
       "    }\n",
       "\n",
       "    .dataframe tbody tr th {\n",
       "        vertical-align: top;\n",
       "    }\n",
       "\n",
       "    .dataframe thead th {\n",
       "        text-align: right;\n",
       "    }\n",
       "</style>\n",
       "<table border=\"1\" class=\"dataframe\">\n",
       "  <thead>\n",
       "    <tr style=\"text-align: right;\">\n",
       "      <th></th>\n",
       "      <th>reg_end</th>\n",
       "      <th>ot_end</th>\n",
       "      <th>so_end</th>\n",
       "      <th>total_games</th>\n",
       "      <th>total_extra_time_games</th>\n",
       "      <th>extra_time_pct</th>\n",
       "      <th>ot_end_over_total_extra_time_games</th>\n",
       "    </tr>\n",
       "  </thead>\n",
       "  <tbody>\n",
       "    <tr>\n",
       "      <th>2015</th>\n",
       "      <td>954</td>\n",
       "      <td>168</td>\n",
       "      <td>107</td>\n",
       "      <td>1229</td>\n",
       "      <td>275</td>\n",
       "      <td>0.223759</td>\n",
       "      <td>0.610909</td>\n",
       "    </tr>\n",
       "    <tr>\n",
       "      <th>2016</th>\n",
       "      <td>940</td>\n",
       "      <td>190</td>\n",
       "      <td>99</td>\n",
       "      <td>1229</td>\n",
       "      <td>289</td>\n",
       "      <td>0.235151</td>\n",
       "      <td>0.657439</td>\n",
       "    </tr>\n",
       "    <tr>\n",
       "      <th>2017</th>\n",
       "      <td>976</td>\n",
       "      <td>192</td>\n",
       "      <td>103</td>\n",
       "      <td>1271</td>\n",
       "      <td>295</td>\n",
       "      <td>0.232101</td>\n",
       "      <td>0.650847</td>\n",
       "    </tr>\n",
       "    <tr>\n",
       "      <th>2018</th>\n",
       "      <td>999</td>\n",
       "      <td>184</td>\n",
       "      <td>88</td>\n",
       "      <td>1271</td>\n",
       "      <td>272</td>\n",
       "      <td>0.214005</td>\n",
       "      <td>0.676471</td>\n",
       "    </tr>\n",
       "    <tr>\n",
       "      <th>2019</th>\n",
       "      <td>1021</td>\n",
       "      <td>164</td>\n",
       "      <td>86</td>\n",
       "      <td>1271</td>\n",
       "      <td>250</td>\n",
       "      <td>0.196696</td>\n",
       "      <td>0.656000</td>\n",
       "    </tr>\n",
       "    <tr>\n",
       "      <th>2020</th>\n",
       "      <td>673</td>\n",
       "      <td>130</td>\n",
       "      <td>65</td>\n",
       "      <td>868</td>\n",
       "      <td>195</td>\n",
       "      <td>0.224654</td>\n",
       "      <td>0.666667</td>\n",
       "    </tr>\n",
       "  </tbody>\n",
       "</table>\n",
       "</div>"
      ],
      "text/plain": [
       "      reg_end  ot_end  so_end  total_games  total_extra_time_games  \\\n",
       "2015      954     168     107         1229                     275   \n",
       "2016      940     190      99         1229                     289   \n",
       "2017      976     192     103         1271                     295   \n",
       "2018      999     184      88         1271                     272   \n",
       "2019     1021     164      86         1271                     250   \n",
       "2020      673     130      65          868                     195   \n",
       "\n",
       "      extra_time_pct  ot_end_over_total_extra_time_games  \n",
       "2015        0.223759                            0.610909  \n",
       "2016        0.235151                            0.657439  \n",
       "2017        0.232101                            0.650847  \n",
       "2018        0.214005                            0.676471  \n",
       "2019        0.196696                            0.656000  \n",
       "2020        0.224654                            0.666667  "
      ]
     },
     "execution_count": 18,
     "metadata": {},
     "output_type": "execute_result"
    }
   ],
   "source": [
    "df_year['extra_time_pct'] = df_year['total_extra_time_games'] / df_year['total_games']\n",
    "df_year['ot_end_over_total_extra_time_games'] = df_year['ot_end'] / (df_year['ot_end'] + df_year['so_end'])\n",
    "df_year"
   ]
  },
  {
   "cell_type": "markdown",
   "id": "3e569d45",
   "metadata": {},
   "source": [
    "##### create bar chart to show trends across seasons"
   ]
  },
  {
   "cell_type": "code",
   "execution_count": 19,
   "id": "cbe109be",
   "metadata": {},
   "outputs": [],
   "source": [
    "years_adj = []\n",
    "for year in years:\n",
    "    years_adj.append(year + '-' + str(int(year)+1))"
   ]
  },
  {
   "cell_type": "code",
   "execution_count": 44,
   "id": "5ae07f25",
   "metadata": {},
   "outputs": [
    {
     "data": {
      "image/png": "[encoded data removed]",
      "text/plain": [
       "<Figure size 432x288 with 1 Axes>"
      ]
     },
     "metadata": {
      "needs_background": "light"
     },
     "output_type": "display_data"
    }
   ],
   "source": [
    "# create figure\n",
    "fig1, ax1 = plt.subplots()\n",
    "\n",
    "# plot data\n",
    "plt.plot(years_adj, df_year['extra_time_pct'], marker='o')\n",
    "\n",
    "# add title and axis names\n",
    "plt.title('Percentage of Games Requiring Extra Time')\n",
    "plt.xlabel('Season')\n",
    "plt.ylabel('Percentage')\n",
    "\n",
    "# add labels to each point\n",
    "for x, y in zip(years_adj, df_year['extra_time_pct']):\n",
    "    label = str(round(y*100,1))+'%'\n",
    "    plt.annotate(label, # this is the text\n",
    "                 (x,y), # this is the point to label\n",
    "                 textcoords=\"offset points\", # how to position the text\n",
    "                 xytext=(1,5), # distance from text to points (x,y)\n",
    "                 ha='center') # horizontal alignment can be left, right or center\n",
    "\n",
    "# adjust ticks rotation\n",
    "plt.xticks(rotation=15)\n",
    "\n",
    "# adjust y limits\n",
    "plt.ylim(0,1)\n",
    "\n",
    "# add trendline\n",
    "x = list(range(0,len(years_adj)))\n",
    "z = np.polyfit(x, df_year['extra_time_pct'], 1)\n",
    "p = np.poly1d(z)\n",
    "plt.plot(x,p(x),linestyle=':', color='crimson')\n",
    "\n",
    "plt.show()\n",
    "\n",
    "# save figure to storage\n",
    "fname = 'images/period_trend_ot_needed.png'\n",
    "fig1.savefig(fname, bbox_inches=\"tight\")"
   ]
  },
  {
   "cell_type": "code",
   "execution_count": 43,
   "id": "d7db5b01",
   "metadata": {},
   "outputs": [
    {
     "data": {
      "image/png": "[encoded data removed]",
      "text/plain": [
       "<Figure size 432x288 with 1 Axes>"
      ]
     },
     "metadata": {
      "needs_background": "light"
     },
     "output_type": "display_data"
    }
   ],
   "source": [
    "# create figure\n",
    "fig1, ax1 = plt.subplots()\n",
    "\n",
    "# plot data\n",
    "plt.plot(years_adj, df_year['ot_end_over_total_extra_time_games'], marker='o')\n",
    "\n",
    "# add title and axis names\n",
    "plt.title('Percentage of Games Ending in Overtime\\nWhere Game Requires Overtime or Shootout')\n",
    "plt.xlabel('Season')\n",
    "plt.ylabel('Percentage')\n",
    "\n",
    "# add labels to each point\n",
    "for x, y in zip(years_adj, df_year['ot_end_over_total_extra_time_games']):\n",
    "    label = str(round(y*100,1))+'%'\n",
    "    plt.annotate(label, # this is the text\n",
    "                 (x,y), # this is the point to label\n",
    "                 textcoords=\"offset points\", # how to position the text\n",
    "                 xytext=(1,8), # distance from text to points (x,y)\n",
    "                 ha='center') # horizontal alignment can be left, right or center\n",
    "\n",
    "# adjust ticks rotation\n",
    "plt.xticks(rotation=15)\n",
    "\n",
    "# adjust y limits\n",
    "plt.ylim(0,1)\n",
    "\n",
    "# add trendline\n",
    "x = list(range(0,len(years_adj)))\n",
    "z = np.polyfit(x, df_year['ot_end_over_total_extra_time_games'], 1)\n",
    "p = np.poly1d(z)\n",
    "plt.plot(x,p(x),linestyle=':', color='crimson')\n",
    "\n",
    "plt.show()\n",
    "\n",
    "# save figure to storage\n",
    "fname = 'images/period_trend_ot_so_ratio.png'\n",
    "fig1.savefig(fname, bbox_inches=\"tight\")"
   ]
  }
 ],
 "metadata": {
  "kernelspec": {
   "display_name": "Python 3",
   "language": "python",
   "name": "python3"
  },
  "language_info": {
   "codemirror_mode": {
    "name": "ipython",
    "version": 3
   },
   "file_extension": ".py",
   "mimetype": "text/x-python",
   "name": "python",
   "nbconvert_exporter": "python",
   "pygments_lexer": "ipython3",
   "version": "3.8.1"
  }
 },
 "nbformat": 4,
 "nbformat_minor": 5
}
