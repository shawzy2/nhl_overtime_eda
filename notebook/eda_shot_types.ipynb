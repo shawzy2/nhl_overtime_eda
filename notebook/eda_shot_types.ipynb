{
 "cells": [
  {
   "cell_type": "markdown",
   "id": "65d75234",
   "metadata": {},
   "source": [
    "# Exploring Shot Types \n",
    "Want to find out if certain shot types are more successful in 3on3 vs regulation"
   ]
  },
  {
   "cell_type": "code",
   "execution_count": 1,
   "id": "91792f1f",
   "metadata": {},
   "outputs": [],
   "source": [
    "# general imports, may not use every one of these\n",
    "import os\n",
    "import json\n",
    "import pprint\n",
    "import pandas as pd\n",
    "import matplotlib.pyplot as plt\n",
    "import numpy as np\n",
    "from scipy import stats"
   ]
  },
  {
   "cell_type": "markdown",
   "id": "85cff3e9",
   "metadata": {},
   "source": [
    "##### read in data for 2020-21 regular season"
   ]
  },
  {
   "cell_type": "code",
   "execution_count": 2,
   "id": "752253ab",
   "metadata": {},
   "outputs": [
    {
     "name": "stdout",
     "output_type": "stream",
     "text": [
      "/Users/williamshaw/Projects/NHL/nhl_overtime_eda/data/2015_regSeasonPlays.json\n",
      "/Users/williamshaw/Projects/NHL/nhl_overtime_eda/data/2016_regSeasonPlays.json\n",
      "/Users/williamshaw/Projects/NHL/nhl_overtime_eda/data/2017_regSeasonPlays.json\n",
      "/Users/williamshaw/Projects/NHL/nhl_overtime_eda/data/2018_regSeasonPlays.json\n",
      "/Users/williamshaw/Projects/NHL/nhl_overtime_eda/data/2019_regSeasonPlays.json\n",
      "/Users/williamshaw/Projects/NHL/nhl_overtime_eda/data/2020_regSeasonPlays.json\n"
     ]
    }
   ],
   "source": [
    "# years = ['2015','2016','2017','2018','2019','2020']\n",
    "years = ['2015','2016','2017','2018','2019','2020']\n",
    "games = {}\n",
    "for year in years:\n",
    "    path = os.getcwd()\n",
    "    path = os.path.abspath(os.path.join(path, os.pardir, 'data/' + year + '_regSeasonPlays.json'))\n",
    "    print(path)\n",
    "    with open(path) as f:\n",
    "        games[year] = json.load(f)"
   ]
  },
  {
   "cell_type": "markdown",
   "id": "7f0ac271",
   "metadata": {},
   "source": [
    "#### get counts of each event type"
   ]
  },
  {
   "cell_type": "code",
   "execution_count": 3,
   "id": "5ad4bf3e",
   "metadata": {},
   "outputs": [
    {
     "name": "stdout",
     "output_type": "stream",
     "text": [
      "total games: 7139\n"
     ]
    }
   ],
   "source": [
    "counter = 0\n",
    "event_types = {}\n",
    "\n",
    "for year in games:\n",
    "    for game_id, game in games[year].items():\n",
    "#         if counter < 10:\n",
    "        for event in game['events']:\n",
    "            event_type = event['result']['event']\n",
    "            if event_type is not None:\n",
    "                if event_type in event_types:\n",
    "                    event_types[event_type] += 1\n",
    "                else:\n",
    "                    event_types[event_type] = 1\n",
    "                    \n",
    "#         else:\n",
    "#             break\n",
    "        counter += 1\n",
    "print('total games: ' + str(counter))\n",
    "        "
   ]
  },
  {
   "cell_type": "code",
   "execution_count": 4,
   "id": "dee1fb32",
   "metadata": {},
   "outputs": [
    {
     "name": "stdout",
     "output_type": "stream",
     "text": [
      "{'Blocked Shot': 195482,\n",
      " 'Early Intermission End': 14,\n",
      " 'Early Intermission Start': 14,\n",
      " 'Emergency Goaltender': 6,\n",
      " 'Faceoff': 409755,\n",
      " 'Game End': 6942,\n",
      " 'Game Official': 1883,\n",
      " 'Game Scheduled': 6943,\n",
      " 'Giveaway': 129411,\n",
      " 'Goal': 40948,\n",
      " 'Hit': 307460,\n",
      " 'Missed Shot': 163726,\n",
      " 'Official Challenge': 1060,\n",
      " 'Penalty': 51604,\n",
      " 'Period End': 22948,\n",
      " 'Period Official': 22948,\n",
      " 'Period Ready': 22953,\n",
      " 'Period Start': 22982,\n",
      " 'Shootout Complete': 574,\n",
      " 'Shot': 390485,\n",
      " 'Stoppage': 320937,\n",
      " 'Takeaway': 96318}\n"
     ]
    }
   ],
   "source": [
    "pprint.pprint(event_types)"
   ]
  },
  {
   "cell_type": "markdown",
   "id": "a5c3c186",
   "metadata": {},
   "source": [
    "Goals are not recorded as shots. Let's keep separate lists for shots and goals, but strucutre lists the same way.\n",
    "Also, omit empty net goals"
   ]
  },
  {
   "cell_type": "code",
   "execution_count": 5,
   "id": "facd0033",
   "metadata": {},
   "outputs": [
    {
     "name": "stdout",
     "output_type": "stream",
     "text": [
      "total games: 7139\n"
     ]
    }
   ],
   "source": [
    "counter = 0\n",
    "shots_count = 0\n",
    "shots = []\n",
    "goals = []\n",
    "data_structure = {\n",
    "    'shot_type': '',\n",
    "    'x_coordinate': 0,\n",
    "    'y_coordinate': 0,\n",
    "    'period': 0,\n",
    "    'period_type': '',\n",
    "    'strength': '',\n",
    "    'goal': False\n",
    "}\n",
    "\n",
    "for year in games:\n",
    "    for game_id, game in games[year].items():\n",
    "#         print(game_id)\n",
    "        for event in game['events']:\n",
    "            event_type = event['result']['event']\n",
    "            if event_type == 'Shot' and event['about']['periodType'] != 'SHOOTOUT' and 'secondaryType' in event['result']:\n",
    "                ds = data_structure.copy()\n",
    "                ds['shot_type'] = event['result']['secondaryType']\n",
    "                if 'x' in event['coordinates']: ds['x_coordinate'] = event['coordinates']['x']\n",
    "                if 'y' in event['coordinates']: ds['y_coordinate'] = event['coordinates']['y']\n",
    "                ds['period'] = event['about']['period']\n",
    "                ds['period_type'] = event['about']['periodType']\n",
    "                shots.append(ds)\n",
    "            elif event_type == 'Goal' and event['about']['periodType'] != 'SHOOTOUT' and not event['result']['emptyNet']:\n",
    "                ds = data_structure.copy()\n",
    "                if 'secondaryType' in event['result']: ds['shot_type'] = event['result']['secondaryType']\n",
    "                else: ds['shot_type'] = 'Penalty On Empty Net'\n",
    "                if 'x' in event['coordinates']: ds['x_coordinate'] = event['coordinates']['x']\n",
    "                if 'y' in event['coordinates']: ds['y_coordinate'] = event['coordinates']['y']\n",
    "                ds['period'] = event['about']['period']\n",
    "                ds['period_type'] = event['about']['periodType']\n",
    "                ds['strength'] = event['result']['strength']['code']\n",
    "                ds['goal'] = True\n",
    "                goals.append(ds)\n",
    "        counter += 1\n",
    "print('total games: ' + str(counter))\n",
    "        "
   ]
  },
  {
   "cell_type": "code",
   "execution_count": 6,
   "id": "dae58ffa",
   "metadata": {},
   "outputs": [
    {
     "name": "stdout",
     "output_type": "stream",
     "text": [
      "388432\n"
     ]
    }
   ],
   "source": [
    "print(len(shots))\n",
    "# pprint.pprint(goals)"
   ]
  },
  {
   "cell_type": "code",
   "execution_count": 7,
   "id": "70a14e55",
   "metadata": {},
   "outputs": [
    {
     "name": "stdout",
     "output_type": "stream",
     "text": [
      "goals df: 37714 entries\n"
     ]
    },
    {
     "data": {
      "text/html": [
       "<div>\n",
       "<style scoped>\n",
       "    .dataframe tbody tr th:only-of-type {\n",
       "        vertical-align: middle;\n",
       "    }\n",
       "\n",
       "    .dataframe tbody tr th {\n",
       "        vertical-align: top;\n",
       "    }\n",
       "\n",
       "    .dataframe thead th {\n",
       "        text-align: right;\n",
       "    }\n",
       "</style>\n",
       "<table border=\"1\" class=\"dataframe\">\n",
       "  <thead>\n",
       "    <tr style=\"text-align: right;\">\n",
       "      <th></th>\n",
       "      <th>shot_type</th>\n",
       "      <th>x_coordinate</th>\n",
       "      <th>y_coordinate</th>\n",
       "      <th>period</th>\n",
       "      <th>period_type</th>\n",
       "      <th>strength</th>\n",
       "      <th>goal</th>\n",
       "    </tr>\n",
       "  </thead>\n",
       "  <tbody>\n",
       "    <tr>\n",
       "      <th>0</th>\n",
       "      <td>Wrist Shot</td>\n",
       "      <td>63.0</td>\n",
       "      <td>-27.0</td>\n",
       "      <td>1</td>\n",
       "      <td>REGULAR</td>\n",
       "      <td>EVEN</td>\n",
       "      <td>True</td>\n",
       "    </tr>\n",
       "    <tr>\n",
       "      <th>1</th>\n",
       "      <td>Deflected</td>\n",
       "      <td>-73.0</td>\n",
       "      <td>-1.0</td>\n",
       "      <td>2</td>\n",
       "      <td>REGULAR</td>\n",
       "      <td>PPG</td>\n",
       "      <td>True</td>\n",
       "    </tr>\n",
       "    <tr>\n",
       "      <th>2</th>\n",
       "      <td>Snap Shot</td>\n",
       "      <td>67.0</td>\n",
       "      <td>0.0</td>\n",
       "      <td>3</td>\n",
       "      <td>REGULAR</td>\n",
       "      <td>EVEN</td>\n",
       "      <td>True</td>\n",
       "    </tr>\n",
       "    <tr>\n",
       "      <th>3</th>\n",
       "      <td>Wrist Shot</td>\n",
       "      <td>82.0</td>\n",
       "      <td>-21.0</td>\n",
       "      <td>1</td>\n",
       "      <td>REGULAR</td>\n",
       "      <td>EVEN</td>\n",
       "      <td>True</td>\n",
       "    </tr>\n",
       "    <tr>\n",
       "      <th>4</th>\n",
       "      <td>Wrist Shot</td>\n",
       "      <td>-77.0</td>\n",
       "      <td>2.0</td>\n",
       "      <td>1</td>\n",
       "      <td>REGULAR</td>\n",
       "      <td>EVEN</td>\n",
       "      <td>True</td>\n",
       "    </tr>\n",
       "  </tbody>\n",
       "</table>\n",
       "</div>"
      ],
      "text/plain": [
       "    shot_type  x_coordinate  y_coordinate  period period_type strength  goal\n",
       "0  Wrist Shot          63.0         -27.0       1     REGULAR     EVEN  True\n",
       "1   Deflected         -73.0          -1.0       2     REGULAR      PPG  True\n",
       "2   Snap Shot          67.0           0.0       3     REGULAR     EVEN  True\n",
       "3  Wrist Shot          82.0         -21.0       1     REGULAR     EVEN  True\n",
       "4  Wrist Shot         -77.0           2.0       1     REGULAR     EVEN  True"
      ]
     },
     "metadata": {},
     "output_type": "display_data"
    },
    {
     "name": "stdout",
     "output_type": "stream",
     "text": [
      "shots df: 388432 entries\n"
     ]
    },
    {
     "data": {
      "text/html": [
       "<div>\n",
       "<style scoped>\n",
       "    .dataframe tbody tr th:only-of-type {\n",
       "        vertical-align: middle;\n",
       "    }\n",
       "\n",
       "    .dataframe tbody tr th {\n",
       "        vertical-align: top;\n",
       "    }\n",
       "\n",
       "    .dataframe thead th {\n",
       "        text-align: right;\n",
       "    }\n",
       "</style>\n",
       "<table border=\"1\" class=\"dataframe\">\n",
       "  <thead>\n",
       "    <tr style=\"text-align: right;\">\n",
       "      <th></th>\n",
       "      <th>shot_type</th>\n",
       "      <th>x_coordinate</th>\n",
       "      <th>y_coordinate</th>\n",
       "      <th>period</th>\n",
       "      <th>period_type</th>\n",
       "      <th>strength</th>\n",
       "      <th>goal</th>\n",
       "    </tr>\n",
       "  </thead>\n",
       "  <tbody>\n",
       "    <tr>\n",
       "      <th>0</th>\n",
       "      <td>Wrist Shot</td>\n",
       "      <td>-55.0</td>\n",
       "      <td>6.0</td>\n",
       "      <td>1</td>\n",
       "      <td>REGULAR</td>\n",
       "      <td></td>\n",
       "      <td>False</td>\n",
       "    </tr>\n",
       "    <tr>\n",
       "      <th>1</th>\n",
       "      <td>Snap Shot</td>\n",
       "      <td>-79.0</td>\n",
       "      <td>0.0</td>\n",
       "      <td>1</td>\n",
       "      <td>REGULAR</td>\n",
       "      <td></td>\n",
       "      <td>False</td>\n",
       "    </tr>\n",
       "    <tr>\n",
       "      <th>2</th>\n",
       "      <td>Snap Shot</td>\n",
       "      <td>-75.0</td>\n",
       "      <td>-1.0</td>\n",
       "      <td>1</td>\n",
       "      <td>REGULAR</td>\n",
       "      <td></td>\n",
       "      <td>False</td>\n",
       "    </tr>\n",
       "    <tr>\n",
       "      <th>3</th>\n",
       "      <td>Wrist Shot</td>\n",
       "      <td>-55.0</td>\n",
       "      <td>-36.0</td>\n",
       "      <td>1</td>\n",
       "      <td>REGULAR</td>\n",
       "      <td></td>\n",
       "      <td>False</td>\n",
       "    </tr>\n",
       "    <tr>\n",
       "      <th>4</th>\n",
       "      <td>Tip-In</td>\n",
       "      <td>-61.0</td>\n",
       "      <td>-1.0</td>\n",
       "      <td>1</td>\n",
       "      <td>REGULAR</td>\n",
       "      <td></td>\n",
       "      <td>False</td>\n",
       "    </tr>\n",
       "  </tbody>\n",
       "</table>\n",
       "</div>"
      ],
      "text/plain": [
       "    shot_type  x_coordinate  y_coordinate  period period_type strength   goal\n",
       "0  Wrist Shot         -55.0           6.0       1     REGULAR           False\n",
       "1   Snap Shot         -79.0           0.0       1     REGULAR           False\n",
       "2   Snap Shot         -75.0          -1.0       1     REGULAR           False\n",
       "3  Wrist Shot         -55.0         -36.0       1     REGULAR           False\n",
       "4      Tip-In         -61.0          -1.0       1     REGULAR           False"
      ]
     },
     "metadata": {},
     "output_type": "display_data"
    },
    {
     "name": "stdout",
     "output_type": "stream",
     "text": [
      "goals and shots df: 426146 entries\n"
     ]
    },
    {
     "data": {
      "text/html": [
       "<div>\n",
       "<style scoped>\n",
       "    .dataframe tbody tr th:only-of-type {\n",
       "        vertical-align: middle;\n",
       "    }\n",
       "\n",
       "    .dataframe tbody tr th {\n",
       "        vertical-align: top;\n",
       "    }\n",
       "\n",
       "    .dataframe thead th {\n",
       "        text-align: right;\n",
       "    }\n",
       "</style>\n",
       "<table border=\"1\" class=\"dataframe\">\n",
       "  <thead>\n",
       "    <tr style=\"text-align: right;\">\n",
       "      <th></th>\n",
       "      <th>shot_type</th>\n",
       "      <th>x_coordinate</th>\n",
       "      <th>y_coordinate</th>\n",
       "      <th>period</th>\n",
       "      <th>period_type</th>\n",
       "      <th>strength</th>\n",
       "      <th>goal</th>\n",
       "    </tr>\n",
       "  </thead>\n",
       "  <tbody>\n",
       "    <tr>\n",
       "      <th>0</th>\n",
       "      <td>Wrist Shot</td>\n",
       "      <td>63.0</td>\n",
       "      <td>-27.0</td>\n",
       "      <td>1</td>\n",
       "      <td>REGULAR</td>\n",
       "      <td>EVEN</td>\n",
       "      <td>True</td>\n",
       "    </tr>\n",
       "    <tr>\n",
       "      <th>1</th>\n",
       "      <td>Deflected</td>\n",
       "      <td>-73.0</td>\n",
       "      <td>-1.0</td>\n",
       "      <td>2</td>\n",
       "      <td>REGULAR</td>\n",
       "      <td>PPG</td>\n",
       "      <td>True</td>\n",
       "    </tr>\n",
       "    <tr>\n",
       "      <th>2</th>\n",
       "      <td>Snap Shot</td>\n",
       "      <td>67.0</td>\n",
       "      <td>0.0</td>\n",
       "      <td>3</td>\n",
       "      <td>REGULAR</td>\n",
       "      <td>EVEN</td>\n",
       "      <td>True</td>\n",
       "    </tr>\n",
       "    <tr>\n",
       "      <th>3</th>\n",
       "      <td>Wrist Shot</td>\n",
       "      <td>82.0</td>\n",
       "      <td>-21.0</td>\n",
       "      <td>1</td>\n",
       "      <td>REGULAR</td>\n",
       "      <td>EVEN</td>\n",
       "      <td>True</td>\n",
       "    </tr>\n",
       "    <tr>\n",
       "      <th>4</th>\n",
       "      <td>Wrist Shot</td>\n",
       "      <td>-77.0</td>\n",
       "      <td>2.0</td>\n",
       "      <td>1</td>\n",
       "      <td>REGULAR</td>\n",
       "      <td>EVEN</td>\n",
       "      <td>True</td>\n",
       "    </tr>\n",
       "  </tbody>\n",
       "</table>\n",
       "</div>"
      ],
      "text/plain": [
       "    shot_type  x_coordinate  y_coordinate  period period_type strength  goal\n",
       "0  Wrist Shot          63.0         -27.0       1     REGULAR     EVEN  True\n",
       "1   Deflected         -73.0          -1.0       2     REGULAR      PPG  True\n",
       "2   Snap Shot          67.0           0.0       3     REGULAR     EVEN  True\n",
       "3  Wrist Shot          82.0         -21.0       1     REGULAR     EVEN  True\n",
       "4  Wrist Shot         -77.0           2.0       1     REGULAR     EVEN  True"
      ]
     },
     "metadata": {},
     "output_type": "display_data"
    }
   ],
   "source": [
    "df_goals = pd.DataFrame.from_dict(goals)\n",
    "print('goals df: ' + str(len(df_goals)) + ' entries')\n",
    "display(df_goals.head())\n",
    "\n",
    "df_shots = pd.DataFrame.from_dict(shots)\n",
    "print('shots df: ' + str(len(df_shots)) + ' entries')\n",
    "display(df_shots.head())\n",
    "\n",
    "# goals need to be counted as shots too, append goals df to shots df\n",
    "df_all = pd.concat([df_goals, df_shots])\n",
    "print('goals and shots df: ' + str(len(df_all)) + ' entries')\n",
    "display(df_all.head())"
   ]
  },
  {
   "cell_type": "code",
   "execution_count": 8,
   "id": "30ec46f1",
   "metadata": {},
   "outputs": [
    {
     "data": {
      "text/plain": [
       "2    13582\n",
       "3    11679\n",
       "1    11425\n",
       "4     1028\n",
       "Name: period, dtype: int64"
      ]
     },
     "execution_count": 8,
     "metadata": {},
     "output_type": "execute_result"
    }
   ],
   "source": [
    "df_all[df_all['goal']==True]['period'].value_counts()"
   ]
  },
  {
   "cell_type": "code",
   "execution_count": 9,
   "id": "4e45bbe2",
   "metadata": {},
   "outputs": [
    {
     "data": {
      "image/png": "[encoded data removed]",
      "text/plain": [
       "<Figure size 432x288 with 1 Axes>"
      ]
     },
     "metadata": {},
     "output_type": "display_data"
    }
   ],
   "source": [
    "my_data = df_all[df_all['goal']==True]['period'].value_counts()\n",
    "my_labels = ['Second', 'Third', 'First', 'Overtime']\n",
    "plt.pie(my_data,labels=my_labels,autopct='%1.1f%%')\n",
    "plt.title('Goals Scored in Each Period for 2020-21 Season')\n",
    "plt.show()"
   ]
  },
  {
   "cell_type": "markdown",
   "id": "a6a2e1b6",
   "metadata": {},
   "source": [
    "#### Compare success rates of each shot type for regulation and overtime period types"
   ]
  },
  {
   "cell_type": "code",
   "execution_count": 10,
   "id": "037b6076",
   "metadata": {},
   "outputs": [],
   "source": [
    "# split data into regulation and overtime dataframes\n",
    "df_reg = df_all[df_all['period_type']=='REGULAR']\n",
    "df_ot = df_all[df_all['period_type']=='OVERTIME']"
   ]
  },
  {
   "cell_type": "code",
   "execution_count": 11,
   "id": "e33e5e18",
   "metadata": {},
   "outputs": [
    {
     "data": {
      "text/plain": [
       "Wrist Shot              18210\n",
       "Snap Shot                5661\n",
       "Slap Shot                4089\n",
       "Tip-In                   3727\n",
       "Backhand                 3481\n",
       "Deflected                1216\n",
       "Wrap-around               278\n",
       "Penalty On Empty Net       24\n",
       "Name: shot_type, dtype: int64"
      ]
     },
     "metadata": {},
     "output_type": "display_data"
    },
    {
     "data": {
      "text/plain": [
       "Wrist Shot     206994\n",
       "Slap Shot       63058\n",
       "Snap Shot       55328\n",
       "Backhand        29814\n",
       "Tip-In          17694\n",
       "Deflected        5930\n",
       "Wrap-around      4008\n",
       "Name: shot_type, dtype: int64"
      ]
     },
     "metadata": {},
     "output_type": "display_data"
    }
   ],
   "source": [
    "# df_reg[df_reg['goal']==True]['shot_type'].value_counts()\n",
    "\n",
    "display(df_reg[df_reg['goal']==True]['shot_type'].value_counts())\n",
    "display(df_reg[df_reg['goal']==False]['shot_type'].value_counts())"
   ]
  },
  {
   "cell_type": "code",
   "execution_count": 12,
   "id": "a53475d7",
   "metadata": {},
   "outputs": [
    {
     "data": {
      "text/plain": [
       "Backhand       117\n",
       "Deflected       12\n",
       "Slap Shot      116\n",
       "Snap Shot      177\n",
       "Tip-In          52\n",
       "Wrap-around      9\n",
       "Wrist Shot     545\n",
       "Name: shot_type, dtype: int64"
      ]
     },
     "metadata": {},
     "output_type": "display_data"
    },
    {
     "data": {
      "text/plain": [
       "Backhand        586\n",
       "Deflected        40\n",
       "Slap Shot       712\n",
       "Snap Shot       867\n",
       "Tip-In          166\n",
       "Wrap-around      45\n",
       "Wrist Shot     3190\n",
       "Name: shot_type, dtype: int64"
      ]
     },
     "metadata": {},
     "output_type": "display_data"
    }
   ],
   "source": [
    "display(df_ot[df_ot['goal']==True]['shot_type'].value_counts().sort_index())\n",
    "display(df_ot[df_ot['goal']==False]['shot_type'].value_counts().sort_index())"
   ]
  },
  {
   "cell_type": "code",
   "execution_count": 13,
   "id": "83bd7c60",
   "metadata": {},
   "outputs": [
    {
     "data": {
      "text/plain": [
       "Backhand                 3481\n",
       "Deflected                1216\n",
       "Penalty On Empty Net       24\n",
       "Slap Shot                4089\n",
       "Snap Shot                5661\n",
       "Tip-In                   3727\n",
       "Wrap-around               278\n",
       "Wrist Shot              18210\n",
       "Name: shot_type, dtype: int64"
      ]
     },
     "execution_count": 13,
     "metadata": {},
     "output_type": "execute_result"
    }
   ],
   "source": [
    "df_reg[df_reg['goal']==True]['shot_type'].value_counts().sort_index()"
   ]
  },
  {
   "cell_type": "code",
   "execution_count": 14,
   "id": "5106c40a",
   "metadata": {},
   "outputs": [
    {
     "data": {
      "text/html": [
       "<div>\n",
       "<style scoped>\n",
       "    .dataframe tbody tr th:only-of-type {\n",
       "        vertical-align: middle;\n",
       "    }\n",
       "\n",
       "    .dataframe tbody tr th {\n",
       "        vertical-align: top;\n",
       "    }\n",
       "\n",
       "    .dataframe thead th {\n",
       "        text-align: right;\n",
       "    }\n",
       "</style>\n",
       "<table border=\"1\" class=\"dataframe\">\n",
       "  <thead>\n",
       "    <tr style=\"text-align: right;\">\n",
       "      <th></th>\n",
       "      <th>reg_success</th>\n",
       "      <th>reg_failure</th>\n",
       "      <th>reg_rate</th>\n",
       "      <th>ot_success</th>\n",
       "      <th>ot_failure</th>\n",
       "      <th>ot_rate</th>\n",
       "    </tr>\n",
       "  </thead>\n",
       "  <tbody>\n",
       "    <tr>\n",
       "      <th>Backhand</th>\n",
       "      <td>3481</td>\n",
       "      <td>29814.0</td>\n",
       "      <td>0.116757</td>\n",
       "      <td>117.0</td>\n",
       "      <td>586.0</td>\n",
       "      <td>0.199659</td>\n",
       "    </tr>\n",
       "    <tr>\n",
       "      <th>Deflected</th>\n",
       "      <td>1216</td>\n",
       "      <td>5930.0</td>\n",
       "      <td>0.205059</td>\n",
       "      <td>12.0</td>\n",
       "      <td>40.0</td>\n",
       "      <td>0.300000</td>\n",
       "    </tr>\n",
       "    <tr>\n",
       "      <th>Slap Shot</th>\n",
       "      <td>4089</td>\n",
       "      <td>63058.0</td>\n",
       "      <td>0.064845</td>\n",
       "      <td>116.0</td>\n",
       "      <td>712.0</td>\n",
       "      <td>0.162921</td>\n",
       "    </tr>\n",
       "    <tr>\n",
       "      <th>Snap Shot</th>\n",
       "      <td>5661</td>\n",
       "      <td>55328.0</td>\n",
       "      <td>0.102317</td>\n",
       "      <td>177.0</td>\n",
       "      <td>867.0</td>\n",
       "      <td>0.204152</td>\n",
       "    </tr>\n",
       "    <tr>\n",
       "      <th>Tip-In</th>\n",
       "      <td>3727</td>\n",
       "      <td>17694.0</td>\n",
       "      <td>0.210636</td>\n",
       "      <td>52.0</td>\n",
       "      <td>166.0</td>\n",
       "      <td>0.313253</td>\n",
       "    </tr>\n",
       "    <tr>\n",
       "      <th>Wrap-around</th>\n",
       "      <td>278</td>\n",
       "      <td>4008.0</td>\n",
       "      <td>0.069361</td>\n",
       "      <td>9.0</td>\n",
       "      <td>45.0</td>\n",
       "      <td>0.200000</td>\n",
       "    </tr>\n",
       "    <tr>\n",
       "      <th>Wrist Shot</th>\n",
       "      <td>18210</td>\n",
       "      <td>206994.0</td>\n",
       "      <td>0.087974</td>\n",
       "      <td>545.0</td>\n",
       "      <td>3190.0</td>\n",
       "      <td>0.170846</td>\n",
       "    </tr>\n",
       "  </tbody>\n",
       "</table>\n",
       "</div>"
      ],
      "text/plain": [
       "             reg_success  reg_failure  reg_rate  ot_success  ot_failure  \\\n",
       "Backhand            3481      29814.0  0.116757       117.0       586.0   \n",
       "Deflected           1216       5930.0  0.205059        12.0        40.0   \n",
       "Slap Shot           4089      63058.0  0.064845       116.0       712.0   \n",
       "Snap Shot           5661      55328.0  0.102317       177.0       867.0   \n",
       "Tip-In              3727      17694.0  0.210636        52.0       166.0   \n",
       "Wrap-around          278       4008.0  0.069361         9.0        45.0   \n",
       "Wrist Shot         18210     206994.0  0.087974       545.0      3190.0   \n",
       "\n",
       "              ot_rate  \n",
       "Backhand     0.199659  \n",
       "Deflected    0.300000  \n",
       "Slap Shot    0.162921  \n",
       "Snap Shot    0.204152  \n",
       "Tip-In       0.313253  \n",
       "Wrap-around  0.200000  \n",
       "Wrist Shot   0.170846  "
      ]
     },
     "execution_count": 14,
     "metadata": {},
     "output_type": "execute_result"
    }
   ],
   "source": [
    "df_prop = pd.DataFrame()\n",
    "\n",
    "# get rates of success for shot types in regulation\n",
    "df_prop['reg_success'] = df_reg[df_reg['goal']==True]['shot_type'].value_counts().sort_index()\n",
    "df_prop['reg_failure'] = df_reg[df_reg['goal']==False]['shot_type'].value_counts().sort_index()\n",
    "df_prop['reg_rate'] = df_prop['reg_success'] / df_prop['reg_failure']\n",
    "\n",
    "# get rates of success for shot types in overtime\n",
    "df_prop['ot_success'] = df_ot[df_ot['goal']==True]['shot_type'].value_counts().sort_index()\n",
    "df_prop['ot_failure'] = df_ot[df_ot['goal']==False]['shot_type'].value_counts().sort_index()\n",
    "df_prop['ot_rate'] = df_prop['ot_success'] / df_prop['ot_failure']\n",
    "\n",
    "# drop 'Penalty On Empty Net' row\n",
    "df_prop.drop(labels='Penalty On Empty Net', axis=0, inplace=True)\n",
    "\n",
    "df_prop"
   ]
  },
  {
   "cell_type": "code",
   "execution_count": 15,
   "id": "008def41",
   "metadata": {},
   "outputs": [],
   "source": [
    "chi2, p, dof, ex = stats.chi2_contingency(df_prop[['reg_success', 'ot_success']].values, correction=False)\n"
   ]
  },
  {
   "cell_type": "code",
   "execution_count": 17,
   "id": "f00167ac",
   "metadata": {},
   "outputs": [
    {
     "name": "stdout",
     "output_type": "stream",
     "text": [
      "chi-squared val: 48.40715492486193\n",
      "p-val: 9.797096904316382e-09\n",
      "degrees of freedom: 6\n",
      "table of expected values:\n"
     ]
    },
    {
     "data": {
      "text/html": [
       "<div>\n",
       "<style scoped>\n",
       "    .dataframe tbody tr th:only-of-type {\n",
       "        vertical-align: middle;\n",
       "    }\n",
       "\n",
       "    .dataframe tbody tr th {\n",
       "        vertical-align: top;\n",
       "    }\n",
       "\n",
       "    .dataframe thead th {\n",
       "        text-align: right;\n",
       "    }\n",
       "</style>\n",
       "<table border=\"1\" class=\"dataframe\">\n",
       "  <thead>\n",
       "    <tr style=\"text-align: right;\">\n",
       "      <th></th>\n",
       "      <th>reg_success</th>\n",
       "      <th>ot_success</th>\n",
       "      <th>expected_reg_success</th>\n",
       "      <th>expected_ot_success</th>\n",
       "    </tr>\n",
       "  </thead>\n",
       "  <tbody>\n",
       "    <tr>\n",
       "      <th>Backhand</th>\n",
       "      <td>3481</td>\n",
       "      <td>117.0</td>\n",
       "      <td>3499.864049</td>\n",
       "      <td>98.135951</td>\n",
       "    </tr>\n",
       "    <tr>\n",
       "      <th>Deflected</th>\n",
       "      <td>1216</td>\n",
       "      <td>12.0</td>\n",
       "      <td>1194.506129</td>\n",
       "      <td>33.493871</td>\n",
       "    </tr>\n",
       "    <tr>\n",
       "      <th>Slap Shot</th>\n",
       "      <td>4089</td>\n",
       "      <td>116.0</td>\n",
       "      <td>4090.308039</td>\n",
       "      <td>114.691961</td>\n",
       "    </tr>\n",
       "    <tr>\n",
       "      <th>Snap Shot</th>\n",
       "      <td>5661</td>\n",
       "      <td>177.0</td>\n",
       "      <td>5678.767737</td>\n",
       "      <td>159.232263</td>\n",
       "    </tr>\n",
       "    <tr>\n",
       "      <th>Tip-In</th>\n",
       "      <td>3727</td>\n",
       "      <td>52.0</td>\n",
       "      <td>3675.927249</td>\n",
       "      <td>103.072751</td>\n",
       "    </tr>\n",
       "    <tr>\n",
       "      <th>Wrap-around</th>\n",
       "      <td>278</td>\n",
       "      <td>9.0</td>\n",
       "      <td>279.172035</td>\n",
       "      <td>7.827965</td>\n",
       "    </tr>\n",
       "    <tr>\n",
       "      <th>Wrist Shot</th>\n",
       "      <td>18210</td>\n",
       "      <td>545.0</td>\n",
       "      <td>18243.454763</td>\n",
       "      <td>511.545237</td>\n",
       "    </tr>\n",
       "  </tbody>\n",
       "</table>\n",
       "</div>"
      ],
      "text/plain": [
       "             reg_success  ot_success  expected_reg_success  \\\n",
       "Backhand            3481       117.0           3499.864049   \n",
       "Deflected           1216        12.0           1194.506129   \n",
       "Slap Shot           4089       116.0           4090.308039   \n",
       "Snap Shot           5661       177.0           5678.767737   \n",
       "Tip-In              3727        52.0           3675.927249   \n",
       "Wrap-around          278         9.0            279.172035   \n",
       "Wrist Shot         18210       545.0          18243.454763   \n",
       "\n",
       "             expected_ot_success  \n",
       "Backhand               98.135951  \n",
       "Deflected              33.493871  \n",
       "Slap Shot             114.691961  \n",
       "Snap Shot             159.232263  \n",
       "Tip-In                103.072751  \n",
       "Wrap-around             7.827965  \n",
       "Wrist Shot            511.545237  "
      ]
     },
     "execution_count": 17,
     "metadata": {},
     "output_type": "execute_result"
    }
   ],
   "source": [
    "print('chi-squared val: ' + str(chi2))\n",
    "print('p-val: ' + str(p))\n",
    "print('degrees of freedom: ' + str(dof))\n",
    "print('table of expected values:')\n",
    "df_ex = df_prop[['reg_success', 'ot_success']].copy()\n",
    "df_ex_tmp = pd.DataFrame(ex)\n",
    "df_ex_tmp.columns = ['expected_reg_success', 'expected_ot_success']\n",
    "df_ex['expected_reg_success'] = df_ex_tmp['expected_reg_success'].to_list()\n",
    "df_ex['expected_ot_success'] = df_ex_tmp['expected_ot_success'].to_list()\n",
    "df_ex"
   ]
  },
  {
   "cell_type": "markdown",
   "id": "1e61c8eb",
   "metadata": {},
   "source": [
    "##### Chi-square test of homogeneity of successful shot types in regulation and overtime scenarios\n",
    "Testing to see if certain types of shots are more successful in overtime vs regulation.\n",
    "\n",
    "$$\n",
    "H_0: \\begin{align*} Proportion_{regulation\\hspace{1pt}backhand\\hspace{1pt}goals} = Proportion_{overtime\\hspace{1pt}backhand\\hspace{1pt}goals} \\\\\n",
    "Proportion_{regulation\\hspace{1pt}deflected\\hspace{1pt}goals} = Proportion_{overtime\\hspace{1pt}deflected\\hspace{1pt}goals} \\end{align*}\n",
    "\\\\\n",
    "...\\\\\n",
    "$$\n",
    "\n",
    "$$\n",
    "H_a: \\begin{align*} Proportion_{regulation\\hspace{1pt}backhand\\hspace{1pt}goals} \\neq Proportion_{overtime\\hspace{1pt}backhand\\hspace{1pt}goals} \\\\\n",
    "Proportion_{regulation\\hspace{1pt}deflected\\hspace{1pt}goals} \\neq Proportion_{overtime\\hspace{1pt}deflected\\hspace{1pt}goals} \\end{align*}\n",
    "\\\\\n",
    "...\\\\\n",
    "$$\n",
    "\n",
    "$$\n",
    "\\alpha = 0.05\n",
    "$$\n",
    "\n",
    "Where observed and expected values follow:\n",
    "\n",
    "| Shot Type      | Observed Regulation Goals | Observed Overtime Goals | Expected Regulation Goals | Expected Overtime Goals |\n",
    "| ----------- | ----------- | ----------- | ----------- | ----------- | \n",
    "| Backhand    | 3481  | 117 | 3500  | 98  |\n",
    "| Deflected   | 1216  | 12  | 1194  | 33  |\n",
    "| Slap Shot   | 4089  | 116 | 4090  | 115 |\n",
    "| Snap Shot   | 5661  | 177 | 5679  | 159 |\n",
    "| Tip-In      | 3727  | 52  | 3676  | 103 |\n",
    "| Wrap-around | 278   | 9   | 279   | 8   |\n",
    "| Wrist Shot  | 18210 | 545 | 18243 | 512 |\n",
    "\n",
    "And test statistics follow:\n",
    "$$\n",
    "{\\chi}^2 = 48.01 \\\\\n",
    "df = 6 \\\\\n",
    "p < 0.00001\n",
    "$$\n",
    "\n",
    "Conclusion:\n",
    "$$\n",
    "\\text{Since } p \\lt \\alpha \\text{, we  reject } H_0\\text{. Between the 2015-16 and 2020-21 seasons,} \\\\ \n",
    "\\text{there is enough evidence to say there is a difference between the proportion of successful shot types in regulation vs overtime.} \n",
    "$$"
   ]
  },
  {
   "cell_type": "markdown",
   "id": "06834fb0",
   "metadata": {},
   "source": [
    "#### Create a bar chart showing observed vs expected"
   ]
  },
  {
   "cell_type": "code",
   "execution_count": 127,
   "id": "10ee3d45",
   "metadata": {},
   "outputs": [
    {
     "data": {
      "image/png": "[encoded data removed]",
      "text/plain": [
       "<Figure size 432x288 with 1 Axes>"
      ]
     },
     "metadata": {
      "needs_background": "light"
     },
     "output_type": "display_data"
    }
   ],
   "source": [
    "# grab labels, obs, and exp values for regulation goals\n",
    "items = df_prop.index.values\n",
    "observed = df_ex['reg_success'].to_list()\n",
    "expected = df_ex['expected_reg_success'].to_list()\n",
    "\n",
    "# initialize fig\n",
    "fig, ax = plt.subplots()\n",
    "\n",
    "# plot obs and expected\n",
    "width = 0.35\n",
    "N = 7\n",
    "ind = np.arange(N) \n",
    "p1 = ax.bar(ind, observed, width=width, label='Observed', color='#99D9D9')\n",
    "p2 = ax.bar(ind+width, expected, width=width, label='Expected', color='#355464')\n",
    "\n",
    "# adjust labels\n",
    "ax.set_ylabel('Number of Goals Scored')\n",
    "ax.set_xlabel('Type of Shot')\n",
    "ax.set_title('Goals Scored in Regulation across 6 Seasons (2015-2021)\\n' + \n",
    "                 'Label Shows Percentage Difference Between Observed and Expected Goals')\n",
    "ax.set_xticks(ind + width / 2)\n",
    "ax.set_xticklabels(items, rotation = 20)\n",
    "ax.legend(loc='best')\n",
    "\n",
    "# create labels\n",
    "rects = ax.patches\n",
    "labels = []\n",
    "for i in range(len(observed)):\n",
    "    labels.append(round((observed[i] - expected[i]) / expected[i] * 100,1))\n",
    "\n",
    "\n",
    "# apply labels\n",
    "for rect, label in zip(rects, labels):\n",
    "    height = rect.get_height()\n",
    "    if label > 0: \n",
    "        text_color = 'green'\n",
    "        label = '+' + str(label)\n",
    "    elif label < 0: \n",
    "        text_color = 'red'\n",
    "    else:\n",
    "        text_color = 'black'\n",
    "    ax.text(rect.get_x() + rect.get_width() / 2, height + 5, str(label)+'%',\n",
    "            ha='center', va='bottom', color=text_color)\n",
    "plt.show()\n",
    "\n",
    "# save figure to storage\n",
    "fname = 'images/obsVexp_regulation.png'\n",
    "fig.savefig(fname, bbox_inches=\"tight\")"
   ]
  },
  {
   "cell_type": "code",
   "execution_count": 128,
   "id": "34554292",
   "metadata": {},
   "outputs": [
    {
     "data": {
      "image/png": "[encoded data removed]",
      "text/plain": [
       "<Figure size 432x288 with 1 Axes>"
      ]
     },
     "metadata": {
      "needs_background": "light"
     },
     "output_type": "display_data"
    }
   ],
   "source": [
    "# grab labels, obs, and exp values for regulation goals\n",
    "items = df_prop.index.values\n",
    "observed = df_ex['ot_success'].to_list()\n",
    "expected = df_ex['expected_ot_success'].to_list()\n",
    "\n",
    "# initialize fig\n",
    "fig, ax = plt.subplots()\n",
    "\n",
    "# plot obs and expected\n",
    "width = 0.35\n",
    "N = 7\n",
    "ind = np.arange(N) \n",
    "p1 = ax.bar(ind, observed, width=width, label='Observed', color='#68A2B9')\n",
    "p2 = ax.bar(ind+width, expected, width=width, label='Expected', color='#001628')\n",
    "\n",
    "# adjust labels\n",
    "ax.set_ylabel('Number of Goals Scored')\n",
    "ax.set_xlabel('Type of Shot')\n",
    "ax.set_title('Goals Scored in Regulation across 6 Seasons (2015-2021)\\n' + \n",
    "                 'Label Shows Percentage Difference Between Observed and Expected Goals')\n",
    "ax.set_xticks(ind + width / 2)\n",
    "ax.set_xticklabels(items, rotation = 20)\n",
    "ax.legend(loc='best')\n",
    "\n",
    "# create labels\n",
    "rects = ax.patches\n",
    "labels = []\n",
    "for i in range(len(observed)):\n",
    "    labels.append(round((observed[i] - expected[i]) / expected[i] * 100,1))\n",
    "\n",
    "# apply labels\n",
    "for rect, label in zip(rects, labels):\n",
    "    height = rect.get_height()\n",
    "    if label > 0: \n",
    "        text_color = 'green'\n",
    "        label = '+' + str(label)\n",
    "    else: \n",
    "        text_color = 'red'\n",
    "    ax.text(rect.get_x() + rect.get_width() / 2, height + 5, str(label)+'%',\n",
    "            ha='center', va='bottom', color=text_color)\n",
    "plt.show()\n",
    "\n",
    "# save figure to storage\n",
    "fname = 'images/obsVexp_overtime.png'\n",
    "fig.savefig(fname, bbox_inches=\"tight\")"
   ]
  },
  {
   "cell_type": "code",
   "execution_count": null,
   "id": "ef9f044c",
   "metadata": {},
   "outputs": [],
   "source": []
  },
  {
   "cell_type": "code",
   "execution_count": null,
   "id": "e47ccbd0",
   "metadata": {},
   "outputs": [],
   "source": []
  },
  {
   "cell_type": "code",
   "execution_count": null,
   "id": "748f0cc0",
   "metadata": {},
   "outputs": [],
   "source": []
  },
  {
   "cell_type": "code",
   "execution_count": null,
   "id": "aadf83db",
   "metadata": {},
   "outputs": [],
   "source": []
  },
  {
   "cell_type": "code",
   "execution_count": null,
   "id": "42ef77b5",
   "metadata": {},
   "outputs": [],
   "source": [
    "\n",
    "\n",
    "\n",
    "\n",
    "\n",
    "\n",
    "\n",
    "\n",
    "\n",
    "\n",
    "\n",
    "\n",
    "\n",
    "\n",
    "\n",
    "\n",
    "\n",
    "\n",
    "\n",
    "\n",
    "\n",
    "\n",
    "\n",
    "\n",
    "\n",
    "\n",
    "\n",
    "\n",
    "\n",
    "\n",
    "\n",
    "\n",
    "\n",
    "\n",
    "\n",
    "\n",
    "\n",
    "\n",
    "\n",
    "\n",
    "\n",
    "\n",
    "\n",
    "\n",
    "\n",
    "\n",
    "\n",
    "\n"
   ]
  }
 ],
 "metadata": {
  "kernelspec": {
   "display_name": "Python 3",
   "language": "python",
   "name": "python3"
  },
  "language_info": {
   "codemirror_mode": {
    "name": "ipython",
    "version": 3
   },
   "file_extension": ".py",
   "mimetype": "text/x-python",
   "name": "python",
   "nbconvert_exporter": "python",
   "pygments_lexer": "ipython3",
   "version": "3.8.1"
  }
 },
 "nbformat": 4,
 "nbformat_minor": 5
}
