{
 "cells": [
  {
   "cell_type": "markdown",
   "id": "7563d691",
   "metadata": {},
   "source": [
    "# EDA"
   ]
  },
  {
   "cell_type": "code",
   "execution_count": 83,
   "id": "01a2e1e4",
   "metadata": {},
   "outputs": [],
   "source": [
    "# # Install a pip package in the current Jupyter kernel\n",
    "# import sys\n",
    "# !{sys.executable} -m pip install scipy"
   ]
  },
  {
   "cell_type": "code",
   "execution_count": 82,
   "id": "43b822f7",
   "metadata": {},
   "outputs": [],
   "source": [
    "import os\n",
    "import json\n",
    "import pprint\n",
    "import pandas as pd\n",
    "import matplotlib.pyplot as plt\n",
    "import numpy as np\n",
    "from scipy import stats"
   ]
  },
  {
   "cell_type": "markdown",
   "id": "9671f898",
   "metadata": {},
   "source": [
    "##### read in data for 2020-21 regular season\n"
   ]
  },
  {
   "cell_type": "code",
   "execution_count": 3,
   "id": "763a655b",
   "metadata": {},
   "outputs": [
    {
     "name": "stdout",
     "output_type": "stream",
     "text": [
      "/Users/williamshaw/Projects/NHL/nhl_overtime_eda/data/2015_regSeasonPlays.json\n",
      "/Users/williamshaw/Projects/NHL/nhl_overtime_eda/data/2016_regSeasonPlays.json\n",
      "/Users/williamshaw/Projects/NHL/nhl_overtime_eda/data/2017_regSeasonPlays.json\n",
      "/Users/williamshaw/Projects/NHL/nhl_overtime_eda/data/2018_regSeasonPlays.json\n",
      "/Users/williamshaw/Projects/NHL/nhl_overtime_eda/data/2019_regSeasonPlays.json\n",
      "/Users/williamshaw/Projects/NHL/nhl_overtime_eda/data/2020_regSeasonPlays.json\n"
     ]
    }
   ],
   "source": [
    "# year = '2020'\n",
    "years = ['2015','2016','2017','2018','2019','2020']\n",
    "games = {}\n",
    "for year in years:\n",
    "    path = os.getcwd()\n",
    "    path = os.path.abspath(os.path.join(path, os.pardir, 'data/' + year + '_regSeasonPlays.json'))\n",
    "    print(path)\n",
    "    with open(path) as f:\n",
    "        games[year] = json.load(f)"
   ]
  },
  {
   "cell_type": "markdown",
   "id": "0b804cff",
   "metadata": {},
   "source": [
    "##### get a list of all faceoffs that happen in overtime, and the player/team that won those faceoffs"
   ]
  },
  {
   "cell_type": "code",
   "execution_count": 4,
   "id": "d8bfc2ba",
   "metadata": {},
   "outputs": [],
   "source": [
    "overtime_faceoffs = []\n",
    "\n",
    "record = {}\n",
    "record['game_id'] = ''\n",
    "record['faceoff_win_player'] = ''\n",
    "record['faceoff_win_team'] = ''\n",
    "record['faceoff_lose_player'] = ''\n",
    "record['faceoff_number'] = 0\n",
    "\n",
    "for year in games:\n",
    "    for game_id, game in games[year].items():\n",
    "        record['game_id'] = game_id\n",
    "        faceoff_number = 1\n",
    "        for event in game['events']:\n",
    "            if event['about']['periodType'] == 'OVERTIME' and event['result']['eventTypeId'] == 'FACEOFF':\n",
    "\n",
    "                ## which player won/lost this faceoff #\n",
    "                for player in event['players']:\n",
    "                    if player['playerType'] == 'Winner':\n",
    "                        record['faceoff_win_player'] = player['player']['fullName']\n",
    "                    else:\n",
    "                        record['faceoff_lose_player'] = player['player']['fullName']\n",
    "\n",
    "                ## the team of the player who won this faceoff ##\n",
    "                record['faceoff_win_team'] = event['team']['name']\n",
    "\n",
    "                ## the number of faceoffs seen in this overtime so far ##\n",
    "                record['faceoff_number'] = faceoff_number\n",
    "                faceoff_number += 1\n",
    "\n",
    "                overtime_faceoffs.append(record.copy())\n"
   ]
  },
  {
   "cell_type": "markdown",
   "id": "343263c9",
   "metadata": {},
   "source": [
    "##### get a list of the winning team for each game ending in overtime"
   ]
  },
  {
   "cell_type": "code",
   "execution_count": 5,
   "id": "252b0605",
   "metadata": {},
   "outputs": [],
   "source": [
    "game_results = []\n",
    "\n",
    "record = {}\n",
    "record['game_id'] = ''\n",
    "record['home_team'] = ''\n",
    "record['away_team'] = ''\n",
    "record['home_goals'] = ''\n",
    "record['away_goals'] = ''\n",
    "record['winning_team'] = ''\n",
    "record['losing_team'] = ''\n",
    "record['last_period'] = ''\n",
    "\n",
    "for year in games:\n",
    "    for game_id, game in games[year].items():\n",
    "        ## game_id and home/away team names ##\n",
    "        record['game_id'] = game_id\n",
    "        record['home_team'] = game['home_team']\n",
    "        record['away_team'] = game['away_team']\n",
    "\n",
    "        ## get goals for each team ##\n",
    "        for event in game['events']:\n",
    "            if event['result']['eventTypeId'] == 'GAME_END':\n",
    "                record['home_goals'] = event['about']['goals']['home']\n",
    "                record['away_goals'] = event['about']['goals']['away']\n",
    "                record['last_period'] = event['about']['periodType']\n",
    "\n",
    "        ## calculate which team won/lost the game based on number of goals ##\n",
    "        if record['home_goals'] > record['away_goals']:\n",
    "            record['winning_team'] = record['home_team']\n",
    "            record['losing_team'] = record['away_team']\n",
    "        else:\n",
    "            record['winning_team'] = record['away_team']\n",
    "            record['losing_team'] = record['home_team']\n",
    "\n",
    "        game_results.append(record.copy())\n"
   ]
  },
  {
   "cell_type": "markdown",
   "id": "9af30108",
   "metadata": {},
   "source": [
    "##### convert to pandas dataframe"
   ]
  },
  {
   "cell_type": "code",
   "execution_count": 6,
   "id": "7996dfe0",
   "metadata": {},
   "outputs": [
    {
     "data": {
      "text/html": [
       "<div>\n",
       "<style scoped>\n",
       "    .dataframe tbody tr th:only-of-type {\n",
       "        vertical-align: middle;\n",
       "    }\n",
       "\n",
       "    .dataframe tbody tr th {\n",
       "        vertical-align: top;\n",
       "    }\n",
       "\n",
       "    .dataframe thead th {\n",
       "        text-align: right;\n",
       "    }\n",
       "</style>\n",
       "<table border=\"1\" class=\"dataframe\">\n",
       "  <thead>\n",
       "    <tr style=\"text-align: right;\">\n",
       "      <th></th>\n",
       "      <th>game_id</th>\n",
       "      <th>faceoff_win_player</th>\n",
       "      <th>faceoff_win_team</th>\n",
       "      <th>faceoff_lose_player</th>\n",
       "      <th>faceoff_number</th>\n",
       "    </tr>\n",
       "  </thead>\n",
       "  <tbody>\n",
       "    <tr>\n",
       "      <th>0</th>\n",
       "      <td>2015020007</td>\n",
       "      <td>Valtteri Filppula</td>\n",
       "      <td>Tampa Bay Lightning</td>\n",
       "      <td>Claude Giroux</td>\n",
       "      <td>1</td>\n",
       "    </tr>\n",
       "    <tr>\n",
       "      <th>1</th>\n",
       "      <td>2015020007</td>\n",
       "      <td>Sean Couturier</td>\n",
       "      <td>Philadelphia Flyers</td>\n",
       "      <td>Steven Stamkos</td>\n",
       "      <td>2</td>\n",
       "    </tr>\n",
       "    <tr>\n",
       "      <th>2</th>\n",
       "      <td>2015020007</td>\n",
       "      <td>Valtteri Filppula</td>\n",
       "      <td>Tampa Bay Lightning</td>\n",
       "      <td>Claude Giroux</td>\n",
       "      <td>3</td>\n",
       "    </tr>\n",
       "    <tr>\n",
       "      <th>3</th>\n",
       "      <td>2015020015</td>\n",
       "      <td>John Tavares</td>\n",
       "      <td>New York Islanders</td>\n",
       "      <td>Jonathan Toews</td>\n",
       "      <td>1</td>\n",
       "    </tr>\n",
       "    <tr>\n",
       "      <th>4</th>\n",
       "      <td>2015020015</td>\n",
       "      <td>Frans Nielsen</td>\n",
       "      <td>New York Islanders</td>\n",
       "      <td>Jonathan Toews</td>\n",
       "      <td>2</td>\n",
       "    </tr>\n",
       "  </tbody>\n",
       "</table>\n",
       "</div>"
      ],
      "text/plain": [
       "      game_id faceoff_win_player     faceoff_win_team faceoff_lose_player  \\\n",
       "0  2015020007  Valtteri Filppula  Tampa Bay Lightning       Claude Giroux   \n",
       "1  2015020007     Sean Couturier  Philadelphia Flyers      Steven Stamkos   \n",
       "2  2015020007  Valtteri Filppula  Tampa Bay Lightning       Claude Giroux   \n",
       "3  2015020015       John Tavares   New York Islanders      Jonathan Toews   \n",
       "4  2015020015      Frans Nielsen   New York Islanders      Jonathan Toews   \n",
       "\n",
       "   faceoff_number  \n",
       "0               1  \n",
       "1               2  \n",
       "2               3  \n",
       "3               1  \n",
       "4               2  "
      ]
     },
     "metadata": {},
     "output_type": "display_data"
    },
    {
     "data": {
      "text/html": [
       "<div>\n",
       "<style scoped>\n",
       "    .dataframe tbody tr th:only-of-type {\n",
       "        vertical-align: middle;\n",
       "    }\n",
       "\n",
       "    .dataframe tbody tr th {\n",
       "        vertical-align: top;\n",
       "    }\n",
       "\n",
       "    .dataframe thead th {\n",
       "        text-align: right;\n",
       "    }\n",
       "</style>\n",
       "<table border=\"1\" class=\"dataframe\">\n",
       "  <thead>\n",
       "    <tr style=\"text-align: right;\">\n",
       "      <th></th>\n",
       "      <th>game_id</th>\n",
       "      <th>home_team</th>\n",
       "      <th>away_team</th>\n",
       "      <th>home_goals</th>\n",
       "      <th>away_goals</th>\n",
       "      <th>winning_team</th>\n",
       "      <th>losing_team</th>\n",
       "      <th>last_period</th>\n",
       "    </tr>\n",
       "  </thead>\n",
       "  <tbody>\n",
       "    <tr>\n",
       "      <th>0</th>\n",
       "      <td>2015020001</td>\n",
       "      <td>Toronto Maple Leafs</td>\n",
       "      <td>Montréal Canadiens</td>\n",
       "      <td>1</td>\n",
       "      <td>3</td>\n",
       "      <td>Montréal Canadiens</td>\n",
       "      <td>Toronto Maple Leafs</td>\n",
       "      <td>REGULAR</td>\n",
       "    </tr>\n",
       "    <tr>\n",
       "      <th>1</th>\n",
       "      <td>2015020002</td>\n",
       "      <td>Chicago Blackhawks</td>\n",
       "      <td>New York Rangers</td>\n",
       "      <td>2</td>\n",
       "      <td>3</td>\n",
       "      <td>New York Rangers</td>\n",
       "      <td>Chicago Blackhawks</td>\n",
       "      <td>REGULAR</td>\n",
       "    </tr>\n",
       "    <tr>\n",
       "      <th>2</th>\n",
       "      <td>2015020003</td>\n",
       "      <td>Calgary Flames</td>\n",
       "      <td>Vancouver Canucks</td>\n",
       "      <td>1</td>\n",
       "      <td>5</td>\n",
       "      <td>Vancouver Canucks</td>\n",
       "      <td>Calgary Flames</td>\n",
       "      <td>REGULAR</td>\n",
       "    </tr>\n",
       "    <tr>\n",
       "      <th>3</th>\n",
       "      <td>2015020004</td>\n",
       "      <td>Los Angeles Kings</td>\n",
       "      <td>San Jose Sharks</td>\n",
       "      <td>1</td>\n",
       "      <td>5</td>\n",
       "      <td>San Jose Sharks</td>\n",
       "      <td>Los Angeles Kings</td>\n",
       "      <td>REGULAR</td>\n",
       "    </tr>\n",
       "    <tr>\n",
       "      <th>4</th>\n",
       "      <td>2015020005</td>\n",
       "      <td>Boston Bruins</td>\n",
       "      <td>Winnipeg Jets</td>\n",
       "      <td>2</td>\n",
       "      <td>6</td>\n",
       "      <td>Winnipeg Jets</td>\n",
       "      <td>Boston Bruins</td>\n",
       "      <td>REGULAR</td>\n",
       "    </tr>\n",
       "  </tbody>\n",
       "</table>\n",
       "</div>"
      ],
      "text/plain": [
       "      game_id            home_team           away_team  home_goals  \\\n",
       "0  2015020001  Toronto Maple Leafs  Montréal Canadiens           1   \n",
       "1  2015020002   Chicago Blackhawks    New York Rangers           2   \n",
       "2  2015020003       Calgary Flames   Vancouver Canucks           1   \n",
       "3  2015020004    Los Angeles Kings     San Jose Sharks           1   \n",
       "4  2015020005        Boston Bruins       Winnipeg Jets           2   \n",
       "\n",
       "   away_goals        winning_team          losing_team last_period  \n",
       "0           3  Montréal Canadiens  Toronto Maple Leafs     REGULAR  \n",
       "1           3    New York Rangers   Chicago Blackhawks     REGULAR  \n",
       "2           5   Vancouver Canucks       Calgary Flames     REGULAR  \n",
       "3           5     San Jose Sharks    Los Angeles Kings     REGULAR  \n",
       "4           6       Winnipeg Jets        Boston Bruins     REGULAR  "
      ]
     },
     "metadata": {},
     "output_type": "display_data"
    },
    {
     "data": {
      "text/plain": [
       "REGULAR     5563\n",
       "OVERTIME    1028\n",
       "SHOOTOUT     548\n",
       "Name: last_period, dtype: int64"
      ]
     },
     "metadata": {},
     "output_type": "display_data"
    }
   ],
   "source": [
    "# faceoff data\n",
    "df_fo = pd.DataFrame.from_dict(overtime_faceoffs)\n",
    "display(df_fo.head())\n",
    "\n",
    "# game results data\n",
    "df_winloss = pd.DataFrame.from_dict(game_results)\n",
    "display(df_winloss.head())\n",
    "display(df_winloss['last_period'].value_counts())"
   ]
  },
  {
   "cell_type": "markdown",
   "id": "e13723b0",
   "metadata": {},
   "source": [
    "##### merge datasets on game_id"
   ]
  },
  {
   "cell_type": "code",
   "execution_count": 7,
   "id": "8a915b3d",
   "metadata": {},
   "outputs": [
    {
     "data": {
      "text/html": [
       "<div>\n",
       "<style scoped>\n",
       "    .dataframe tbody tr th:only-of-type {\n",
       "        vertical-align: middle;\n",
       "    }\n",
       "\n",
       "    .dataframe tbody tr th {\n",
       "        vertical-align: top;\n",
       "    }\n",
       "\n",
       "    .dataframe thead th {\n",
       "        text-align: right;\n",
       "    }\n",
       "</style>\n",
       "<table border=\"1\" class=\"dataframe\">\n",
       "  <thead>\n",
       "    <tr style=\"text-align: right;\">\n",
       "      <th></th>\n",
       "      <th>game_id</th>\n",
       "      <th>faceoff_win_player</th>\n",
       "      <th>faceoff_win_team</th>\n",
       "      <th>faceoff_lose_player</th>\n",
       "      <th>faceoff_number</th>\n",
       "      <th>home_team</th>\n",
       "      <th>away_team</th>\n",
       "      <th>home_goals</th>\n",
       "      <th>away_goals</th>\n",
       "      <th>winning_team</th>\n",
       "      <th>losing_team</th>\n",
       "      <th>last_period</th>\n",
       "    </tr>\n",
       "  </thead>\n",
       "  <tbody>\n",
       "    <tr>\n",
       "      <th>0</th>\n",
       "      <td>2015020007</td>\n",
       "      <td>Valtteri Filppula</td>\n",
       "      <td>Tampa Bay Lightning</td>\n",
       "      <td>Claude Giroux</td>\n",
       "      <td>1</td>\n",
       "      <td>Tampa Bay Lightning</td>\n",
       "      <td>Philadelphia Flyers</td>\n",
       "      <td>3</td>\n",
       "      <td>2</td>\n",
       "      <td>Tampa Bay Lightning</td>\n",
       "      <td>Philadelphia Flyers</td>\n",
       "      <td>OVERTIME</td>\n",
       "    </tr>\n",
       "    <tr>\n",
       "      <th>1</th>\n",
       "      <td>2015020007</td>\n",
       "      <td>Sean Couturier</td>\n",
       "      <td>Philadelphia Flyers</td>\n",
       "      <td>Steven Stamkos</td>\n",
       "      <td>2</td>\n",
       "      <td>Tampa Bay Lightning</td>\n",
       "      <td>Philadelphia Flyers</td>\n",
       "      <td>3</td>\n",
       "      <td>2</td>\n",
       "      <td>Tampa Bay Lightning</td>\n",
       "      <td>Philadelphia Flyers</td>\n",
       "      <td>OVERTIME</td>\n",
       "    </tr>\n",
       "    <tr>\n",
       "      <th>2</th>\n",
       "      <td>2015020007</td>\n",
       "      <td>Valtteri Filppula</td>\n",
       "      <td>Tampa Bay Lightning</td>\n",
       "      <td>Claude Giroux</td>\n",
       "      <td>3</td>\n",
       "      <td>Tampa Bay Lightning</td>\n",
       "      <td>Philadelphia Flyers</td>\n",
       "      <td>3</td>\n",
       "      <td>2</td>\n",
       "      <td>Tampa Bay Lightning</td>\n",
       "      <td>Philadelphia Flyers</td>\n",
       "      <td>OVERTIME</td>\n",
       "    </tr>\n",
       "    <tr>\n",
       "      <th>3</th>\n",
       "      <td>2015020015</td>\n",
       "      <td>John Tavares</td>\n",
       "      <td>New York Islanders</td>\n",
       "      <td>Jonathan Toews</td>\n",
       "      <td>1</td>\n",
       "      <td>New York Islanders</td>\n",
       "      <td>Chicago Blackhawks</td>\n",
       "      <td>2</td>\n",
       "      <td>3</td>\n",
       "      <td>Chicago Blackhawks</td>\n",
       "      <td>New York Islanders</td>\n",
       "      <td>OVERTIME</td>\n",
       "    </tr>\n",
       "    <tr>\n",
       "      <th>4</th>\n",
       "      <td>2015020015</td>\n",
       "      <td>Frans Nielsen</td>\n",
       "      <td>New York Islanders</td>\n",
       "      <td>Jonathan Toews</td>\n",
       "      <td>2</td>\n",
       "      <td>New York Islanders</td>\n",
       "      <td>Chicago Blackhawks</td>\n",
       "      <td>2</td>\n",
       "      <td>3</td>\n",
       "      <td>Chicago Blackhawks</td>\n",
       "      <td>New York Islanders</td>\n",
       "      <td>OVERTIME</td>\n",
       "    </tr>\n",
       "  </tbody>\n",
       "</table>\n",
       "</div>"
      ],
      "text/plain": [
       "      game_id faceoff_win_player     faceoff_win_team faceoff_lose_player  \\\n",
       "0  2015020007  Valtteri Filppula  Tampa Bay Lightning       Claude Giroux   \n",
       "1  2015020007     Sean Couturier  Philadelphia Flyers      Steven Stamkos   \n",
       "2  2015020007  Valtteri Filppula  Tampa Bay Lightning       Claude Giroux   \n",
       "3  2015020015       John Tavares   New York Islanders      Jonathan Toews   \n",
       "4  2015020015      Frans Nielsen   New York Islanders      Jonathan Toews   \n",
       "\n",
       "   faceoff_number            home_team            away_team  home_goals  \\\n",
       "0               1  Tampa Bay Lightning  Philadelphia Flyers           3   \n",
       "1               2  Tampa Bay Lightning  Philadelphia Flyers           3   \n",
       "2               3  Tampa Bay Lightning  Philadelphia Flyers           3   \n",
       "3               1   New York Islanders   Chicago Blackhawks           2   \n",
       "4               2   New York Islanders   Chicago Blackhawks           2   \n",
       "\n",
       "   away_goals         winning_team          losing_team last_period  \n",
       "0           2  Tampa Bay Lightning  Philadelphia Flyers    OVERTIME  \n",
       "1           2  Tampa Bay Lightning  Philadelphia Flyers    OVERTIME  \n",
       "2           2  Tampa Bay Lightning  Philadelphia Flyers    OVERTIME  \n",
       "3           3   Chicago Blackhawks   New York Islanders    OVERTIME  \n",
       "4           3   Chicago Blackhawks   New York Islanders    OVERTIME  "
      ]
     },
     "execution_count": 7,
     "metadata": {},
     "output_type": "execute_result"
    }
   ],
   "source": [
    "df = df_fo.merge(df_winloss[df_winloss['last_period']=='OVERTIME'], how='inner', on='game_id')\n",
    "df.head()"
   ]
  },
  {
   "cell_type": "markdown",
   "id": "ab46e8a0",
   "metadata": {},
   "source": [
    "##### extract features"
   ]
  },
  {
   "cell_type": "code",
   "execution_count": 8,
   "id": "840f4f7e",
   "metadata": {},
   "outputs": [],
   "source": [
    "# interested in how much predictive power the result of the opening faceoff can be, in games the end in overtime\n",
    "conditions = [df['faceoff_win_team'] == df['winning_team'],]\n",
    "choices = [1,]\n",
    "\n",
    "df['faceoffWon_gameWon'] = np.select(conditions, choices, default=0)"
   ]
  },
  {
   "cell_type": "code",
   "execution_count": 9,
   "id": "bd975b3c",
   "metadata": {},
   "outputs": [
    {
     "data": {
      "text/html": [
       "<div>\n",
       "<style scoped>\n",
       "    .dataframe tbody tr th:only-of-type {\n",
       "        vertical-align: middle;\n",
       "    }\n",
       "\n",
       "    .dataframe tbody tr th {\n",
       "        vertical-align: top;\n",
       "    }\n",
       "\n",
       "    .dataframe thead th {\n",
       "        text-align: right;\n",
       "    }\n",
       "</style>\n",
       "<table border=\"1\" class=\"dataframe\">\n",
       "  <thead>\n",
       "    <tr style=\"text-align: right;\">\n",
       "      <th></th>\n",
       "      <th>game_id</th>\n",
       "      <th>faceoff_win_team</th>\n",
       "      <th>winning_team</th>\n",
       "      <th>last_period</th>\n",
       "      <th>faceoffWon_gameWon</th>\n",
       "    </tr>\n",
       "  </thead>\n",
       "  <tbody>\n",
       "    <tr>\n",
       "      <th>0</th>\n",
       "      <td>2015020007</td>\n",
       "      <td>Tampa Bay Lightning</td>\n",
       "      <td>Tampa Bay Lightning</td>\n",
       "      <td>OVERTIME</td>\n",
       "      <td>1</td>\n",
       "    </tr>\n",
       "    <tr>\n",
       "      <th>3</th>\n",
       "      <td>2015020015</td>\n",
       "      <td>New York Islanders</td>\n",
       "      <td>Chicago Blackhawks</td>\n",
       "      <td>OVERTIME</td>\n",
       "      <td>0</td>\n",
       "    </tr>\n",
       "    <tr>\n",
       "      <th>5</th>\n",
       "      <td>2015020028</td>\n",
       "      <td>Vancouver Canucks</td>\n",
       "      <td>Calgary Flames</td>\n",
       "      <td>OVERTIME</td>\n",
       "      <td>0</td>\n",
       "    </tr>\n",
       "    <tr>\n",
       "      <th>8</th>\n",
       "      <td>2015020064</td>\n",
       "      <td>Minnesota Wild</td>\n",
       "      <td>Los Angeles Kings</td>\n",
       "      <td>OVERTIME</td>\n",
       "      <td>0</td>\n",
       "    </tr>\n",
       "    <tr>\n",
       "      <th>10</th>\n",
       "      <td>2015020075</td>\n",
       "      <td>New York Rangers</td>\n",
       "      <td>New Jersey Devils</td>\n",
       "      <td>OVERTIME</td>\n",
       "      <td>0</td>\n",
       "    </tr>\n",
       "    <tr>\n",
       "      <th>...</th>\n",
       "      <td>...</td>\n",
       "      <td>...</td>\n",
       "      <td>...</td>\n",
       "      <td>...</td>\n",
       "      <td>...</td>\n",
       "    </tr>\n",
       "    <tr>\n",
       "      <th>2158</th>\n",
       "      <td>2020020856</td>\n",
       "      <td>Washington Capitals</td>\n",
       "      <td>Washington Capitals</td>\n",
       "      <td>OVERTIME</td>\n",
       "      <td>1</td>\n",
       "    </tr>\n",
       "    <tr>\n",
       "      <th>2162</th>\n",
       "      <td>2020020859</td>\n",
       "      <td>Columbus Blue Jackets</td>\n",
       "      <td>Columbus Blue Jackets</td>\n",
       "      <td>OVERTIME</td>\n",
       "      <td>1</td>\n",
       "    </tr>\n",
       "    <tr>\n",
       "      <th>2170</th>\n",
       "      <td>2020020860</td>\n",
       "      <td>Chicago Blackhawks</td>\n",
       "      <td>Dallas Stars</td>\n",
       "      <td>OVERTIME</td>\n",
       "      <td>0</td>\n",
       "    </tr>\n",
       "    <tr>\n",
       "      <th>2175</th>\n",
       "      <td>2020020865</td>\n",
       "      <td>Minnesota Wild</td>\n",
       "      <td>Minnesota Wild</td>\n",
       "      <td>OVERTIME</td>\n",
       "      <td>1</td>\n",
       "    </tr>\n",
       "    <tr>\n",
       "      <th>2176</th>\n",
       "      <td>2020020868</td>\n",
       "      <td>San Jose Sharks</td>\n",
       "      <td>Arizona Coyotes</td>\n",
       "      <td>OVERTIME</td>\n",
       "      <td>0</td>\n",
       "    </tr>\n",
       "  </tbody>\n",
       "</table>\n",
       "<p>1027 rows × 5 columns</p>\n",
       "</div>"
      ],
      "text/plain": [
       "         game_id       faceoff_win_team           winning_team last_period  \\\n",
       "0     2015020007    Tampa Bay Lightning    Tampa Bay Lightning    OVERTIME   \n",
       "3     2015020015     New York Islanders     Chicago Blackhawks    OVERTIME   \n",
       "5     2015020028      Vancouver Canucks         Calgary Flames    OVERTIME   \n",
       "8     2015020064         Minnesota Wild      Los Angeles Kings    OVERTIME   \n",
       "10    2015020075       New York Rangers      New Jersey Devils    OVERTIME   \n",
       "...          ...                    ...                    ...         ...   \n",
       "2158  2020020856    Washington Capitals    Washington Capitals    OVERTIME   \n",
       "2162  2020020859  Columbus Blue Jackets  Columbus Blue Jackets    OVERTIME   \n",
       "2170  2020020860     Chicago Blackhawks           Dallas Stars    OVERTIME   \n",
       "2175  2020020865         Minnesota Wild         Minnesota Wild    OVERTIME   \n",
       "2176  2020020868        San Jose Sharks        Arizona Coyotes    OVERTIME   \n",
       "\n",
       "      faceoffWon_gameWon  \n",
       "0                      1  \n",
       "3                      0  \n",
       "5                      0  \n",
       "8                      0  \n",
       "10                     0  \n",
       "...                  ...  \n",
       "2158                   1  \n",
       "2162                   1  \n",
       "2170                   0  \n",
       "2175                   1  \n",
       "2176                   0  \n",
       "\n",
       "[1027 rows x 5 columns]"
      ]
     },
     "execution_count": 9,
     "metadata": {},
     "output_type": "execute_result"
    }
   ],
   "source": [
    "df[df['faceoff_number']==1][['game_id','faceoff_win_team','winning_team','last_period','faceoffWon_gameWon']]"
   ]
  },
  {
   "cell_type": "markdown",
   "id": "f9458780",
   "metadata": {},
   "source": [
    "##### calculate percentage of teams that won after winning first faceoff"
   ]
  },
  {
   "cell_type": "code",
   "execution_count": 10,
   "id": "910bbf97",
   "metadata": {},
   "outputs": [
    {
     "data": {
      "text/plain": [
       "array([[<AxesSubplot:title={'center':'faceoffWon_gameWon'}>]],\n",
       "      dtype=object)"
      ]
     },
     "execution_count": 10,
     "metadata": {},
     "output_type": "execute_result"
    },
    {
     "data": {
      "image/png": "[encoded data removed]",
      "text/plain": [
       "<Figure size 432x288 with 1 Axes>"
      ]
     },
     "metadata": {
      "needs_background": "light"
     },
     "output_type": "display_data"
    }
   ],
   "source": [
    "df[df['faceoff_number']==1].hist('faceoffWon_gameWon')"
   ]
  },
  {
   "cell_type": "code",
   "execution_count": 11,
   "id": "d246fea1",
   "metadata": {},
   "outputs": [
    {
     "data": {
      "text/plain": [
       "1    514\n",
       "0    513\n",
       "Name: faceoffWon_gameWon, dtype: int64"
      ]
     },
     "execution_count": 11,
     "metadata": {},
     "output_type": "execute_result"
    }
   ],
   "source": [
    "df[df['faceoff_number']==1]['faceoffWon_gameWon'].value_counts()\n",
    "# df_winloss['last_period'].value_counts()"
   ]
  },
  {
   "cell_type": "code",
   "execution_count": 12,
   "id": "fdc5c796",
   "metadata": {},
   "outputs": [
    {
     "data": {
      "image/png": "[encoded data removed]",
      "text/plain": [
       "<Figure size 432x288 with 1 Axes>"
      ]
     },
     "metadata": {},
     "output_type": "display_data"
    },
    {
     "data": {
      "text/plain": [
       "<Figure size 432x288 with 0 Axes>"
      ]
     },
     "metadata": {},
     "output_type": "display_data"
    }
   ],
   "source": [
    "# calculate total overtime games\n",
    "ot_games = df_winloss['last_period'].value_counts()[1]\n",
    "    \n",
    "# get counts for game outcomes when the first faceoff of an overtime is won\n",
    "games_won = df[df['faceoff_number']==1]['faceoffWon_gameWon'].value_counts()[1]\n",
    "games_lost = df[df['faceoff_number']==1]['faceoffWon_gameWon'].value_counts()[0]\n",
    "\n",
    "# Pie chart, where the slices will be ordered and plotted counter-clockwise:\n",
    "labels = 'Win Game', 'Lose Game'\n",
    "sizes = [games_won, games_lost]\n",
    "explode = (0.1, 0)  # only \"explode\" the 2nd slice (i.e. 'Hogs')\n",
    "\n",
    "fig1, ax1 = plt.subplots()\n",
    "ax1.pie(sizes, explode=explode, labels=labels, autopct='%1.1f%%',\n",
    "        shadow=True, startangle=90,\n",
    "        colors=['g', 'crimson'])\n",
    "ax1.set_title('From 2015-2021\\nRegular Season Games Ending in Overtime: Outcomes after Winning Opening Faceoff\\n' + \\\n",
    "                  'Total Number of Games Ending in Overtime: ' + str(ot_games))\n",
    "ax1.axis('equal')  # Equal aspect ratio ensures that pie is drawn as a circle.\n",
    "\n",
    "plt.show()\n",
    "plt.tight_layout()\n",
    "fig1.savefig('images/outcomes_allszns.png', bbox_inches=\"tight\", edgecolor='black')\n"
   ]
  },
  {
   "cell_type": "markdown",
   "id": "d474af37",
   "metadata": {},
   "source": [
    "##### Verify that we correctly assigned labels by checking the total number of games per season"
   ]
  },
  {
   "cell_type": "code",
   "execution_count": 13,
   "id": "f3d06e48",
   "metadata": {},
   "outputs": [
    {
     "name": "stdout",
     "output_type": "stream",
     "text": [
      "...verifying total games per season in correct\n",
      "2015-2016 szn\n",
      "total games: 1229\n"
     ]
    },
    {
     "data": {
      "text/plain": [
       "REGULAR     954\n",
       "OVERTIME    168\n",
       "SHOOTOUT    107\n",
       "Name: last_period, dtype: int64"
      ]
     },
     "metadata": {},
     "output_type": "display_data"
    },
    {
     "name": "stdout",
     "output_type": "stream",
     "text": [
      "2016-2017 szn\n",
      "total games: 1229\n"
     ]
    },
    {
     "data": {
      "text/plain": [
       "REGULAR     940\n",
       "OVERTIME    190\n",
       "SHOOTOUT     99\n",
       "Name: last_period, dtype: int64"
      ]
     },
     "metadata": {},
     "output_type": "display_data"
    },
    {
     "name": "stdout",
     "output_type": "stream",
     "text": [
      "2017-2018 szn\n",
      "total games: 1271\n"
     ]
    },
    {
     "data": {
      "text/plain": [
       "REGULAR     976\n",
       "OVERTIME    192\n",
       "SHOOTOUT    103\n",
       "Name: last_period, dtype: int64"
      ]
     },
     "metadata": {},
     "output_type": "display_data"
    },
    {
     "name": "stdout",
     "output_type": "stream",
     "text": [
      "2018-2019 szn\n",
      "total games: 1271\n"
     ]
    },
    {
     "data": {
      "text/plain": [
       "REGULAR     999\n",
       "OVERTIME    184\n",
       "SHOOTOUT     88\n",
       "Name: last_period, dtype: int64"
      ]
     },
     "metadata": {},
     "output_type": "display_data"
    },
    {
     "name": "stdout",
     "output_type": "stream",
     "text": [
      "2019-2020 szn\n",
      "total games: 1271\n"
     ]
    },
    {
     "data": {
      "text/plain": [
       "REGULAR     1021\n",
       "OVERTIME     164\n",
       "SHOOTOUT      86\n",
       "Name: last_period, dtype: int64"
      ]
     },
     "metadata": {},
     "output_type": "display_data"
    },
    {
     "name": "stdout",
     "output_type": "stream",
     "text": [
      "2020-2021 szn\n",
      "total games: 868\n"
     ]
    },
    {
     "data": {
      "text/plain": [
       "REGULAR     673\n",
       "OVERTIME    130\n",
       "SHOOTOUT     65\n",
       "Name: last_period, dtype: int64"
      ]
     },
     "metadata": {},
     "output_type": "display_data"
    }
   ],
   "source": [
    "def sum_array(a):\n",
    "    total = 0\n",
    "    for num in a:\n",
    "        total += num\n",
    "    return total\n",
    "\n",
    "print('...verifying total games per season in correct')\n",
    "for year in games:\n",
    "    print(year + '-' + str(int(year)+1) + ' szn')\n",
    "    print('total games: ' + str(sum_array(df_winloss[df_winloss['game_id'].str.startswith(year)]['last_period'].value_counts())))\n",
    "    display(df_winloss[df_winloss['game_id'].str.startswith(year)]['last_period'].value_counts())\n",
    "    \n",
    "    "
   ]
  },
  {
   "cell_type": "markdown",
   "id": "4ba5d5ab",
   "metadata": {},
   "source": [
    "##### calculate percentage of teams that won after winning first faceoff BY SEASON"
   ]
  },
  {
   "cell_type": "code",
   "execution_count": 14,
   "id": "daec7609",
   "metadata": {
    "scrolled": true
   },
   "outputs": [
    {
     "name": "stdout",
     "output_type": "stream",
     "text": [
      "2015\n",
      "76\n",
      "92\n",
      "Total Number of Games Ending in Overtime: 168\n"
     ]
    },
    {
     "data": {
      "image/png": "[encoded data removed]",
      "text/plain": [
       "<Figure size 432x288 with 1 Axes>"
      ]
     },
     "metadata": {},
     "output_type": "display_data"
    },
    {
     "name": "stdout",
     "output_type": "stream",
     "text": [
      "2016\n",
      "101\n",
      "89\n",
      "Total Number of Games Ending in Overtime: 190\n"
     ]
    },
    {
     "data": {
      "image/png": "[encoded data removed]",
      "text/plain": [
       "<Figure size 432x288 with 1 Axes>"
      ]
     },
     "metadata": {},
     "output_type": "display_data"
    },
    {
     "name": "stdout",
     "output_type": "stream",
     "text": [
      "2017\n",
      "93\n",
      "99\n",
      "Total Number of Games Ending in Overtime: 192\n"
     ]
    },
    {
     "data": {
      "image/png": "[encoded data removed]",
      "text/plain": [
       "<Figure size 432x288 with 1 Axes>"
      ]
     },
     "metadata": {},
     "output_type": "display_data"
    },
    {
     "name": "stdout",
     "output_type": "stream",
     "text": [
      "2018\n",
      "81\n",
      "103\n",
      "Total Number of Games Ending in Overtime: 184\n"
     ]
    },
    {
     "data": {
      "image/png": "[encoded data removed]",
      "text/plain": [
       "<Figure size 432x288 with 1 Axes>"
      ]
     },
     "metadata": {},
     "output_type": "display_data"
    },
    {
     "name": "stdout",
     "output_type": "stream",
     "text": [
      "2019\n",
      "90\n",
      "74\n",
      "Total Number of Games Ending in Overtime: 164\n"
     ]
    },
    {
     "data": {
      "image/png": "[encoded data removed]",
      "text/plain": [
       "<Figure size 432x288 with 1 Axes>"
      ]
     },
     "metadata": {},
     "output_type": "display_data"
    },
    {
     "name": "stdout",
     "output_type": "stream",
     "text": [
      "2020\n",
      "73\n",
      "56\n",
      "Total Number of Games Ending in Overtime: 130\n"
     ]
    },
    {
     "data": {
      "image/png": "[encoded data removed]",
      "text/plain": [
       "<Figure size 432x288 with 1 Axes>"
      ]
     },
     "metadata": {},
     "output_type": "display_data"
    }
   ],
   "source": [
    "openfaceoff_win_pct = []\n",
    "for year in games:\n",
    "    print(year)\n",
    "    print(df[(df['faceoff_number']==1) & (df['game_id'].str.startswith(year))]['faceoffWon_gameWon'].value_counts()[1])\n",
    "    print(df[(df['faceoff_number']==1) & (df['game_id'].str.startswith(year))]['faceoffWon_gameWon'].value_counts()[0])\n",
    "    \n",
    "    # calculate total overtime games\n",
    "    ot_games = df_winloss[df_winloss['game_id'].str.startswith(year)]['last_period'].value_counts()[1]\n",
    "    print('Total Number of Games Ending in Overtime: ' + str(ot_games))\n",
    "    \n",
    "    # get counts for game outcomes when the second faceoff of an overtime is won\n",
    "    games_won = df[df['faceoff_number']==1 & (df['game_id'].str.startswith(year))]['faceoffWon_gameWon'].value_counts()[1]\n",
    "    games_lost = df[df['faceoff_number']==1 & (df['game_id'].str.startswith(year))]['faceoffWon_gameWon'].value_counts()[0]\n",
    "    openfaceoff_win_pct.append(games_won / (games_won + games_lost))\n",
    "    \n",
    "    # Pie chart, where the slices will be ordered and plotted counter-clockwise:\n",
    "    labels = 'Win Game', 'Lose Game'\n",
    "    sizes = [games_won, games_lost]\n",
    "    explode = (0.1, 0)  # only \"explode\" the 2nd slice (i.e. 'Hogs')\n",
    "\n",
    "    fig1, ax1 = plt.subplots()\n",
    "    ax1.pie(sizes, explode=explode, labels=labels, autopct='%1.1f%%',\n",
    "            shadow=True, startangle=90,\n",
    "            colors=['g', 'crimson'])\n",
    "    ax1.set_title(year + '-' + str(int(year)+1) + ' Season\\n' + \\\n",
    "                  'Games Ending in Overtime: Outcomes after Winning Opening Faceoff\\n' + \\\n",
    "                  'Total Number of Games Ending in Overtime: ' + str(ot_games))\n",
    "    ax1.axis('equal')  # Equal aspect ratio ensures that pie is drawn as a circle.\n",
    "\n",
    "    plt.show()\n",
    "    \n",
    "    # save figure to storage\n",
    "    fname = 'images/outcomes_' + year + '.png'\n",
    "    fig1.savefig(fname, bbox_inches=\"tight\")\n"
   ]
  },
  {
   "cell_type": "markdown",
   "id": "3e569d45",
   "metadata": {},
   "source": [
    "##### create bar chart to represent how the outcome of opening faceoff has changed"
   ]
  },
  {
   "cell_type": "code",
   "execution_count": 15,
   "id": "cbe109be",
   "metadata": {},
   "outputs": [],
   "source": [
    "years_adj = []\n",
    "for year in years:\n",
    "    years_adj.append(year + '-' + str(int(year)+1))"
   ]
  },
  {
   "cell_type": "code",
   "execution_count": 79,
   "id": "5ae07f25",
   "metadata": {},
   "outputs": [
    {
     "data": {
      "image/png": "[encoded data removed]",
      "text/plain": [
       "<Figure size 432x288 with 1 Axes>"
      ]
     },
     "metadata": {
      "needs_background": "light"
     },
     "output_type": "display_data"
    }
   ],
   "source": [
    "# create figure\n",
    "fig1, ax1 = plt.subplots()\n",
    "\n",
    "# plot data\n",
    "plt.plot(years_adj, openfaceoff_win_pct, marker='o')\n",
    "\n",
    "# add title and axis names\n",
    "plt.title('Overtime Games and Outcomes\\nWhere Team Wins Opening Faceoff')\n",
    "plt.xlabel('Season')\n",
    "plt.ylabel('Percentage of Games Won')\n",
    "\n",
    "# add labels to each point\n",
    "for x, y in zip(years_adj, openfaceoff_win_pct):\n",
    "    label = str(round(y*100,1))+'%'\n",
    "    plt.annotate(label, # this is the text\n",
    "                 (x,y), # this is the point to label\n",
    "                 textcoords=\"offset points\", # how to position the text\n",
    "                 xytext=(20,0), # distance from text to points (x,y)\n",
    "                 ha='center') # horizontal alignment can be left, right or center\n",
    "\n",
    "# adjust ticks rotation\n",
    "plt.xticks(rotation=15)\n",
    "\n",
    "# add trendline\n",
    "x = list(range(0,len(years_adj)))\n",
    "z = np.polyfit(x, openfaceoff_win_pct, 1)\n",
    "p = np.poly1d(z)\n",
    "plt.plot(x,p(x),linestyle=':', color='crimson')\n",
    "\n",
    "plt.show()\n",
    "\n",
    "# save figure to storage\n",
    "fname = 'images/outcomes_trends.png'\n",
    "fig1.savefig(fname, bbox_inches=\"tight\")"
   ]
  },
  {
   "cell_type": "markdown",
   "id": "f6dd0b05",
   "metadata": {},
   "source": [
    "##### Test of significance for 2019-20 season rates\n",
    "Testing if the rate of winning overtime games is random in regards to winning the opening faceoff:\n",
    "\n",
    "$$\n",
    "H_0: \\pi = 0.5\\\\\n",
    "H_a: \\pi \\neq 0.5\\\\\n",
    "\\alpha = 0.05\n",
    "$$\n",
    "\n",
    "Where:\n",
    "\n",
    "$$\n",
    "x = 90 \\hspace{1pt} (successes)\\\\\n",
    "n = 164 \\hspace{1pt} (total \\hspace{1pt} trials)\\\\\n",
    "$$\n",
    "\n",
    "Results of 1-Sided Binomial Test:\n",
    "\n",
    "$$\n",
    "p = binom(x=90,n=164,p=0.5) \\\\\n",
    "p = 0.12\n",
    "$$\n",
    "\n",
    "Conclusion:\n",
    "$$\n",
    "\\text{Since } p \\not \\lt \\alpha \\text{, we cannot reject } H_0\\text{. During the 2019-20 season,} \\\\ \n",
    "\\text{there is not enough evidence to say the rate of overtime wins significantly differs when a team wins the opening faceoff.} \n",
    "$$"
   ]
  },
  {
   "cell_type": "code",
   "execution_count": 95,
   "id": "c582e9a3",
   "metadata": {},
   "outputs": [
    {
     "data": {
      "text/plain": [
       "1    90\n",
       "0    74\n",
       "Name: faceoffWon_gameWon, dtype: int64"
      ]
     },
     "metadata": {},
     "output_type": "display_data"
    },
    {
     "name": "stdout",
     "output_type": "stream",
     "text": [
      "total games: 164\n"
     ]
    },
    {
     "data": {
      "text/plain": [
       "0.1206947758281016"
      ]
     },
     "execution_count": 95,
     "metadata": {},
     "output_type": "execute_result"
    }
   ],
   "source": [
    "display(df[(df['faceoff_number']==1) & (df['game_id'].str.startswith('2019'))]['faceoffWon_gameWon'].value_counts())\n",
    "print('total games: ' + str(sum_array(df[(df['faceoff_number']==1) & (df['game_id'].str.startswith('2019'))]['faceoffWon_gameWon'].value_counts())))\n",
    "\n",
    "stats.binom_test(90, n=164, p=0.5, alternative='greater')\n"
   ]
  },
  {
   "cell_type": "markdown",
   "id": "9cbfb325",
   "metadata": {},
   "source": [
    "##### Test of significance for 2020-21 season rates\n",
    "Testing if the rate of winning overtime games is random in regards to winning the opening faceoff:\n",
    "\n",
    "$$\n",
    "H_0: \\pi = 0.5\\\\\n",
    "H_a: \\pi \\neq 0.5\\\\\n",
    "\\alpha = 0.05\n",
    "$$\n",
    "\n",
    "Where:\n",
    "\n",
    "$$\n",
    "x = 73 \\hspace{1pt} (successes)\\\\\n",
    "n = 129 \\hspace{1pt} (total \\hspace{1pt} trials)\\\\\n",
    "$$\n",
    "\n",
    "Results of 1-Sided Binomial Test:\n",
    "\n",
    "$$\n",
    "p = binom(x=73,n=129,p=0.5) \\\\\n",
    "p = 0.079\n",
    "$$\n",
    "\n",
    "Conclusion:\n",
    "$$\n",
    "\\text{Since } p \\not \\lt \\alpha \\text{, we cannot reject } H_0\\text{. During the 2020-21 season,} \\\\ \n",
    "\\text{there is not enough evidence to say the rate of overtime wins significantly differs when a team wins the opening faceoff.} \n",
    "$$"
   ]
  },
  {
   "cell_type": "code",
   "execution_count": 94,
   "id": "edb9ec39",
   "metadata": {},
   "outputs": [
    {
     "data": {
      "text/plain": [
       "1    73\n",
       "0    56\n",
       "Name: faceoffWon_gameWon, dtype: int64"
      ]
     },
     "metadata": {},
     "output_type": "display_data"
    },
    {
     "name": "stdout",
     "output_type": "stream",
     "text": [
      "total games: 129\n"
     ]
    },
    {
     "data": {
      "text/plain": [
       "0.07932685709616122"
      ]
     },
     "execution_count": 94,
     "metadata": {},
     "output_type": "execute_result"
    }
   ],
   "source": [
    "display(df[(df['faceoff_number']==1) & (df['game_id'].str.startswith('2020'))]['faceoffWon_gameWon'].value_counts())\n",
    "print('total games: ' + str(sum_array(df[(df['faceoff_number']==1) & (df['game_id'].str.startswith('2020'))]['faceoffWon_gameWon'].value_counts())))\n",
    "\n",
    "stats.binom_test(73, n=129, p=0.5, alternative='greater')\n"
   ]
  },
  {
   "cell_type": "code",
   "execution_count": null,
   "id": "b937162e",
   "metadata": {},
   "outputs": [],
   "source": []
  },
  {
   "cell_type": "code",
   "execution_count": null,
   "id": "b363643b",
   "metadata": {},
   "outputs": [],
   "source": []
  },
  {
   "cell_type": "markdown",
   "id": "3fdd307f",
   "metadata": {},
   "source": [
    "##### what is the faceoff percentage of the dallas stars in overtime (14 overtime losses in 2020-21)?"
   ]
  },
  {
   "cell_type": "code",
   "execution_count": 17,
   "id": "fced0c3a",
   "metadata": {},
   "outputs": [],
   "source": [
    "conditions = [df['winning_team'] == 'Dallas Stars',\n",
    "              df['losing_team'] == 'Dallas Stars',\n",
    "             ]\n",
    "choices = [1,1]\n",
    "\n",
    "df['dallas'] = np.select(conditions, choices, default=0)"
   ]
  },
  {
   "cell_type": "code",
   "execution_count": 18,
   "id": "d2c3a992",
   "metadata": {},
   "outputs": [
    {
     "data": {
      "text/html": [
       "<div>\n",
       "<style scoped>\n",
       "    .dataframe tbody tr th:only-of-type {\n",
       "        vertical-align: middle;\n",
       "    }\n",
       "\n",
       "    .dataframe tbody tr th {\n",
       "        vertical-align: top;\n",
       "    }\n",
       "\n",
       "    .dataframe thead th {\n",
       "        text-align: right;\n",
       "    }\n",
       "</style>\n",
       "<table border=\"1\" class=\"dataframe\">\n",
       "  <thead>\n",
       "    <tr style=\"text-align: right;\">\n",
       "      <th></th>\n",
       "      <th>faceoff_win_team</th>\n",
       "      <th>winning_team</th>\n",
       "    </tr>\n",
       "  </thead>\n",
       "  <tbody>\n",
       "    <tr>\n",
       "      <th>1269</th>\n",
       "      <td>Dallas Stars</td>\n",
       "      <td>Dallas Stars</td>\n",
       "    </tr>\n",
       "    <tr>\n",
       "      <th>1930</th>\n",
       "      <td>Florida Panthers</td>\n",
       "      <td>Florida Panthers</td>\n",
       "    </tr>\n",
       "    <tr>\n",
       "      <th>1959</th>\n",
       "      <td>Detroit Red Wings</td>\n",
       "      <td>Dallas Stars</td>\n",
       "    </tr>\n",
       "    <tr>\n",
       "      <th>1977</th>\n",
       "      <td>Dallas Stars</td>\n",
       "      <td>Chicago Blackhawks</td>\n",
       "    </tr>\n",
       "    <tr>\n",
       "      <th>1982</th>\n",
       "      <td>Dallas Stars</td>\n",
       "      <td>Chicago Blackhawks</td>\n",
       "    </tr>\n",
       "    <tr>\n",
       "      <th>2046</th>\n",
       "      <td>Columbus Blue Jackets</td>\n",
       "      <td>Columbus Blue Jackets</td>\n",
       "    </tr>\n",
       "    <tr>\n",
       "      <th>2078</th>\n",
       "      <td>Dallas Stars</td>\n",
       "      <td>Florida Panthers</td>\n",
       "    </tr>\n",
       "    <tr>\n",
       "      <th>2086</th>\n",
       "      <td>Nashville Predators</td>\n",
       "      <td>Nashville Predators</td>\n",
       "    </tr>\n",
       "    <tr>\n",
       "      <th>2110</th>\n",
       "      <td>Dallas Stars</td>\n",
       "      <td>Florida Panthers</td>\n",
       "    </tr>\n",
       "    <tr>\n",
       "      <th>2126</th>\n",
       "      <td>Detroit Red Wings</td>\n",
       "      <td>Dallas Stars</td>\n",
       "    </tr>\n",
       "    <tr>\n",
       "      <th>2132</th>\n",
       "      <td>Dallas Stars</td>\n",
       "      <td>Dallas Stars</td>\n",
       "    </tr>\n",
       "    <tr>\n",
       "      <th>2137</th>\n",
       "      <td>Nashville Predators</td>\n",
       "      <td>Nashville Predators</td>\n",
       "    </tr>\n",
       "    <tr>\n",
       "      <th>2170</th>\n",
       "      <td>Chicago Blackhawks</td>\n",
       "      <td>Dallas Stars</td>\n",
       "    </tr>\n",
       "  </tbody>\n",
       "</table>\n",
       "</div>"
      ],
      "text/plain": [
       "           faceoff_win_team           winning_team\n",
       "1269           Dallas Stars           Dallas Stars\n",
       "1930       Florida Panthers       Florida Panthers\n",
       "1959      Detroit Red Wings           Dallas Stars\n",
       "1977           Dallas Stars     Chicago Blackhawks\n",
       "1982           Dallas Stars     Chicago Blackhawks\n",
       "2046  Columbus Blue Jackets  Columbus Blue Jackets\n",
       "2078           Dallas Stars       Florida Panthers\n",
       "2086    Nashville Predators    Nashville Predators\n",
       "2110           Dallas Stars       Florida Panthers\n",
       "2126      Detroit Red Wings           Dallas Stars\n",
       "2132           Dallas Stars           Dallas Stars\n",
       "2137    Nashville Predators    Nashville Predators\n",
       "2170     Chicago Blackhawks           Dallas Stars"
      ]
     },
     "execution_count": 18,
     "metadata": {},
     "output_type": "execute_result"
    }
   ],
   "source": [
    "df[(df['game_id'].str.contains('2020')) &(df['dallas']==1) & (df['faceoff_number']==1)][['faceoff_win_team', 'winning_team']]\n"
   ]
  },
  {
   "cell_type": "code",
   "execution_count": 19,
   "id": "eef8d2b0",
   "metadata": {},
   "outputs": [
    {
     "data": {
      "text/plain": [
       "0    7\n",
       "1    6\n",
       "Name: faceoffWon_gameWon, dtype: int64"
      ]
     },
     "execution_count": 19,
     "metadata": {},
     "output_type": "execute_result"
    }
   ],
   "source": [
    "df[(df['game_id'].str.contains('2020')) &(df['dallas']==1) & (df['faceoff_number']==1)]['faceoffWon_gameWon'].value_counts()\n"
   ]
  },
  {
   "cell_type": "code",
   "execution_count": 20,
   "id": "34175be0",
   "metadata": {},
   "outputs": [
    {
     "name": "stdout",
     "output_type": "stream",
     "text": [
      "73\n",
      "56\n"
     ]
    }
   ],
   "source": [
    "print(games_won)\n",
    "print(games_lost)"
   ]
  },
  {
   "cell_type": "code",
   "execution_count": null,
   "id": "56985d65",
   "metadata": {},
   "outputs": [],
   "source": []
  }
 ],
 "metadata": {
  "kernelspec": {
   "display_name": "Python 3",
   "language": "python",
   "name": "python3"
  },
  "language_info": {
   "codemirror_mode": {
    "name": "ipython",
    "version": 3
   },
   "file_extension": ".py",
   "mimetype": "text/x-python",
   "name": "python",
   "nbconvert_exporter": "python",
   "pygments_lexer": "ipython3",
   "version": "3.8.1"
  }
 },
 "nbformat": 4,
 "nbformat_minor": 5
}
